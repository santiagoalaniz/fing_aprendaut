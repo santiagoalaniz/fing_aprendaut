{
  "cells": [
    {
      "cell_type": "markdown",
      "metadata": {},
      "source": [
        "# Entrega 2, Grupo 02 - Aprendizaje Bayesiano\n",
        "\n",
        "- Santiago Alaniz,  5082647-6, santiago.alaniz@fing.edu.uy\n",
        "- Bruno De Simone,  4914555-0, bruno.de.simone@fing.edu.uy\n",
        "- María Usuca,      4891124-3, maria.usuca@fing.edu.uy"
      ]
    },
    {
      "cell_type": "markdown",
      "metadata": {},
      "source": [
        "## Objetivo\n",
        "\n",
        "Implementar un algoritmo de predicción de palabras utilizando Naive Bayes. El modelo se entrenará con datos de conversaciones de WhatsApp y se probará en un simulador de cliente. \n",
        "\n",
        "El algoritmo debe ser capaz de recomendar palabras basadas en las últimas N palabras ingresadas en una frase, donde N es un hiperparámetro que se variará para evaluar el desempeño del modelo. Además, el modelo se reentrenará al finalizar cada frase para adaptarse a nueva evidencia. \n",
        "\n",
        "La implementación debe ser eficiente en términos de uso de CPU, utilizando las estructuras de datos más adecuadas en Python.\n"
      ]
    },
    {
      "cell_type": "markdown",
      "metadata": {},
      "source": [
        "## Diseño"
      ]
    },
    {
      "cell_type": "markdown",
      "metadata": {},
      "source": [
        "### Carga del dump de conversaciones en un grupo de WhatsApp\n",
        "\n",
        "En la letra del laboratorio se menciona que se puede acceder al dump en formato `.csv` pero esto es un error en la letra. *WhatsApp* exporta las conversaciones en formato `.txt`.\n",
        "\n",
        "Esto complejiza la carga de los datos ya que no podemos asumir que cada linea del archivo es una entrada del log.\n",
        "\n",
        "Detectamos el siguiente patron en el archivo de texto\n",
        "\n",
        "```\n",
        "  [dd/mm/aaaa hh:mm:ss] <nombre>: <mensaje>\n",
        "    ***\n",
        "  [dd/mm/aaaa hh:mm:ss] <nombre>: <mensaje>\n",
        "```\n",
        "\n",
        "Nos valemos del modulo `src.regex` para definir la expresion regular que detecta el patron y extrae los mensajes (`LOG_ENTRY_PATTERN`).\n",
        "\n",
        "`LOG_ENTRY_PATTERN = f'{metadata_pattern}{message_pattern}(?=\\n{metadata_pattern}|$)':`\n",
        "\n",
        "Esta expresion regular captura el contenido de cada entrada del log en dos grupos: `metadata` y `message`. \n",
        "\n",
        "- El grupo `metadata` captura la fecha y hora de la entrada, el nombre del usuario o el numero de telefono. \n",
        "- El grupo `message` captura el mensaje en si mismo y es el que nos interesa recuperar."
      ]
    },
    {
      "cell_type": "code",
      "execution_count": 4,
      "metadata": {},
      "outputs": [
        {
          "data": {
            "text/plain": [
              "['Horarios disponibles para hoy jueves\\nC1️⃣16-17-19-23\\nC2️⃣16-17-18-23\\nC3️⃣16-17-20-21-23',\n",
              " '18 5ta 6ta\\n- Diego R\\n-\\n-\\n-',\n",
              " '18 5ta 6ta\\n- Diego R\\n- Facundo B\\n-\\n-',\n",
              " 'Hoy 19hs C1 | Cat Princ (primeros partidos)\\n\\n-Petro\\n-Amigo Petro\\n-Amigo Petro \\n-',\n",
              " '18 5ta 6ta\\n- Diego R\\n- Facundo B\\n- Petro\\n- Bole',\n",
              " 'Fabi, vi que reservaste por la app 19h, está perfecto.',\n",
              " 'Gracias Fer! Ahí vi que la aceptaste 💪🏽',\n",
              " 'Es importante que cuando vemos los horarios disponibles y nos interesa una hora y de hecho hacemos lista, notificarlo, pedir que la marquemos para asegurarla y/o hacer como Fabi en este caso, usar la app que está perfecto. Entiendo que gente que no tiene la app y hace reservas solo por WA, está perfecto también es nuestro trabajo pero repito, avisen, pidan que la marquemos y no lo dejen al azar porque por ejemplo puede entrar otra persona por la app, reservarla y el partido que estamos armando hace 4 horas se desmorona.',\n",
              " '☝🏻👍🏻',\n",
              " '18 5ta 6ta\\n- Diego R\\n- Facundo B\\n- Petro\\n- Bole']"
            ]
          },
          "execution_count": 4,
          "metadata": {},
          "output_type": "execute_result"
        }
      ],
      "source": [
        "import re\n",
        "from src.whatsapp_regex import LOG_ENTRY_PATTERN\n",
        "\n",
        "FILE_PATH = './assets/chat.txt'\n",
        "PATTERN = LOG_ENTRY_PATTERN\n",
        "\n",
        "with open(FILE_PATH, 'r', encoding='utf-8') as file:\n",
        "  data = file.read()\n",
        "\n",
        "matches = re.findall(PATTERN, data)\n",
        "data = [ match[1] for match in matches ]\n",
        "\n",
        "data[:10]"
      ]
    },
    {
      "cell_type": "markdown",
      "metadata": {},
      "source": [
        "### Preprocesamiento de datos\n",
        "\n",
        "Para un algoritmo de sugerencia de palabras basado en aprendizaje bayesiano, el preprocesamiento de los datos es crucial para obtener resultados significativos. En nuestro caso, se compone de los siguientes pasos:\n",
        "\n",
        "1. **Conversión a minúsculas**: Para que el algoritmo no trate las palabras como diferentes solo debido a las diferencias de mayúsculas y minúsculas.\n",
        "2. **Eliminación de caracteres especiales, numericos, emojis**: Estos componentes lexicos y semanticos no aportan información relevante para el modelo que busca sugerir palabras.\n",
        "3. **Eliminación de [stopwords](https://es.wikipedia.org/wiki/Palabra_vac%C3%ADa)**: Estas palabras aparecen con mucha frecuencia en el lenguaje natural independientemente del contexto, por lo que no aportan información relevante para el modelo.\n",
        "4. **Tokenización ordenada**: Para que el algoritmo pueda identificar correctamente las palabras y su posición en la oración, es necesario dividir la oración en [tokens](https://es.wikipedia.org/wiki/Token).\n",
        "5. **Cruzamiento de palabras con un [corpus](http://universal.elra.info/product_info.php?cPath=42_43&products_id=1509)**: Para descartar palabras que no pertenecen al idioma español, chequeamos su existencia en un corpus. Esto es importante para evitar que el modelo sugiera palabras en otros idiomas o palabras que no existen.\n",
        "6. **Relajar tildes**: Para que el modelo no distinga palabras con tildes de palabras sin tildes. Teniendo en cuenta que en los mensajes de WhatsApp es muy común que se omitan las tildes.\n",
        "\n",
        "Construimos la clase `src.G02Preprocessor` para encapsular el preprocesamiento de los datos y realizar los pasos mencionados anteriormente con mayor facilidad y control.\n",
        "\n",
        "*Nota:* \n",
        "\n",
        "La lista resultado del preprocesamiento tiene un tamaño menor a la lista original. Esto se debe a que el preprocesamiento descarta mensajes que no cumplen con los criterios de preprocesamiento."
      ]
    },
    {
      "cell_type": "code",
      "execution_count": 5,
      "metadata": {},
      "outputs": [
        {
          "data": {
            "text/plain": [
              "[['hoy', 'jueves'],\n",
              " ['diego'],\n",
              " ['diego', 'facundo'],\n",
              " ['hoy'],\n",
              " ['diego', 'facundo'],\n",
              " ['vi', 'reservaste', 'perfecto'],\n",
              " ['fer', 'ahi', 'vi', 'aceptaste'],\n",
              " ['importante',\n",
              "  'vemos',\n",
              "  'interesa',\n",
              "  'hora',\n",
              "  'hecho',\n",
              "  'hacemos',\n",
              "  'lista',\n",
              "  'pedir',\n",
              "  'marquemos',\n",
              "  'hacer',\n",
              "  'caso',\n",
              "  'usar',\n",
              "  'perfecto',\n",
              "  'entiendo',\n",
              "  'gente',\n",
              "  'hace',\n",
              "  'reservas',\n",
              "  'solo',\n",
              "  'perfecto',\n",
              "  'tambien',\n",
              "  'trabajo',\n",
              "  'repito',\n",
              "  'avisen',\n",
              "  'pidan',\n",
              "  'marquemos',\n",
              "  'dejen',\n",
              "  'azar',\n",
              "  'ejemplo',\n",
              "  'puede',\n",
              "  'entrar',\n",
              "  'persona',\n",
              "  'partido',\n",
              "  'armando',\n",
              "  'hace',\n",
              "  'desmorona'],\n",
              " ['diego', 'facundo'],\n",
              " ['partido', 'reserva']]"
            ]
          },
          "execution_count": 5,
          "metadata": {},
          "output_type": "execute_result"
        }
      ],
      "source": [
        "from src.preprocessing import G02Preprocessor\n",
        "\n",
        "preprocessor = G02Preprocessor()\n",
        "preprocessed_data = preprocessor.apply(data)\n",
        "\n",
        "preprocessed_data[:10]"
      ]
    },
    {
      "cell_type": "markdown",
      "metadata": {},
      "source": [
        "### Algoritmo\n",
        "\n",
        "El algoritmo a implementar es un [clasificador bayesiano naive](https://es.wikipedia.org/wiki/Clasificador_bayesiano_ingenuo). Con la incorporación de un meta-pararametro `N`, que indica la cantidad de palabras anteriores a considerar para la predicción de la siguiente palabra. \n",
        "\n",
        "En la letra del laboratorio se menciona que este algoritmo es intensivo en CPU, es parte de la consigna del laboratorio implementar el algoritmo de la manera más eficiente posible.\n",
        "\n",
        "Detectamos las siguientes tareas para cumplir con la consigna:\n",
        "\n",
        "- **Definir las estructuras de datos**: Debemos diseñar las estructuras de datos que nos permitan almacenar la información necesaria para el funcionamiento del algoritmo. De forma tal que el acceso a la información y los calculos sean lo más eficientes posibles.\n",
        "- **Modulo auxiliar `naive_bayes_utils.py`**: Una vez diseñadas las estructuras de datos, debemos implementarlas, proponemos hacerlo siguiendo un enfoque modular, donde se plasmen las ideas discutidas en el punto anterior.\n",
        "- **Clase `G02NaiveBayesClassifier`**: Una vez implementadas las estructuras de datos, debemos implementar la clase `G02NaiveBayesClassifier` que encapsula el algoritmo de clasificación y mantiene todo el aparato auxiliar encapsulado bajo la misma clase. Esta clase será definida en el modulo `bayesian_learning.py`.\n"
      ]
    },
    {
      "cell_type": "markdown",
      "metadata": {},
      "source": [
        "#### Definir las estructuras de datos\n",
        "\n",
        "Nuestro modelo busca sugerir la palabra más probable dado un contexto de N palabras anteriores. Esto es coincidente con el objetivo mas general de los clasificadores bayesianos, que es encontrar la hipótesis más probable dado un conjunto de evidencias. (`h_map`)\n",
        "\n",
        "- `h_map` = argmax<sub>h</sub> P(h|D) = argmax<sub>h</sub> P(D|h) P(h) / P(D)\n",
        "\n",
        "Los clasificadores bayesianos naive asumen que las evidencias son independientes entre si, por lo que la probabilidad de la hipótesis MAP se puede expresar como el producto de las probabilidades de cada evidencia dada la hipótesis multiplicado por la probabilidad de la hipótesis.\n",
        "\n",
        "- `h_map` = argmax<sub>h</sub> P(D|h) P(h) / P(D) = argmax<sub>h</sub> P(D|h) P(h) = argmax<sub>h</sub> P(d<sub>1</sub>|h) ... P(d<sub>n</sub>|h) P(h)\n",
        "\n",
        "Nuestro meta-parámetro `N` indica la cantidad de palabras anteriores a considerar para la predicción de la siguiente palabra. Es decir, `N` es la cantidad de evidencias que consideramos para calcular la probabilidad de la hipótesis (la palabra a sugerir).\n",
        "\n",
        "Si bien un modelo bayesiano naive simplifica los calculos, diseñar estructuras de datos y algoritmos eficientes para calcular las probabilidades no es trivial. Proponemos las siguientes estructuras de datos para almacenar la información necesaria para el funcionamiento del algoritmo:\n",
        "\n",
        "- `V`: Vocabulario de palabras en el conjunto de entrenamiento.\n",
        "- `F_h`: Frecuencia de cada hipótesis (palabra) en el conjunto de entrenamiento.\n",
        "- `F_hD`: Frecuencia de cada evidencia (palabra anterior) dado una hipótesis (palabra) en el conjunto de entrenamiento. A diferencia de `F_h`, `F_hD` es un diccionario de diccionarios y es afectado por el meta-parámetro `N`, ya que la cantidad de evidencias a considerar depende de `N`. Por ejemplo, si `N=4` y la hipótesis es `h`, `F_hD[h]` es un diccionario que contiene la frecuencia de cada combinación de 4 palabras anteriores a `h` en el conjunto de entrenamiento. Esto implica tambien que las frases de longitud menor a `N` no aportan información para el entrenamiento del modelo.\n",
        "\n",
        "Para calcular las probabilidades usamos el m-estimador como estimador de máxima verosimilitud y suavizador de hipotesis que no aparecen en el conjunto de entrenamiento hasta el momento de la predicción."
      ]
    },
    {
      "cell_type": "markdown",
      "metadata": {},
      "source": [
        "#### Modulo auxiliar `naive_bayes_utils.py`\n",
        "\n",
        "El modulo `naive_bayes_utils.py` encapsula las estructuras de datos y los algoritmos auxiliares necesarios para el funcionamiento del clasificador bayesiano naive. \n",
        "\n",
        "Estas estructuras de datos fueron definidas en el punto anterior y fueron implementadas en el modulo `naive_bayes_utils.py` de la siguiente manera:\n",
        "\n",
        "- `count_words(**args)`: Esta función recibe los datos de entrenamiento preprocesados y el meta-parámetro `N` y devuelve las estructuras de datos `V`, `F_h` y `F_hD` definidas anteriormente.\n",
        "- `p_h(**args)`: Esta función recibe las estructuras de datos `V`, `F_h` y `F_hD` y `m` y devuelve un estimador de máxima verosimilitud de la probabilidad de cada hipótesis (palabra) en el conjunto de entrenamiento.\n",
        "- `p_hD(**args)`: Esta función recibe las estructuras de datos `V`, `F_h` y `F_hD` y `m` y devuelve un estimador de máxima verosimilitud de la probabilidad de cada evidencia (palabra anterior) dado una hipótesis (palabra) en el conjunto de entrenamiento."
      ]
    },
    {
      "cell_type": "code",
      "execution_count": 11,
      "metadata": {},
      "outputs": [
        {
          "name": "stdout",
          "output_type": "stream",
          "text": [
            "V: 11704\n",
            "F_h: Counter({'hoy': 1257, 'si': 557, 'cancha': 286, 'mensaje': 181, 'elimino': 157, 'libero': 137, 'fer': 136, 'miercoles': 134, 'falta': 131, 'dia': 119, 'diego': 116, 'bien': 116, 'hora': 114, 'multimedia': 109, 'omitido': 109, 'lunes': 109, 'pronto': 108, 'viernes': 103, 'jorge': 101, 'martes': 101, 'jueves': 98, 'buen': 91, 'adrian': 90, 'juan': 86, 'ahi': 83, 'completo': 81, 'mas': 77, 'bueno': 77, 'jugar': 75, 'sale': 73, 'alguien': 72, 'manana': 68, 'alguno': 66, 'reservas': 64, 'arriba': 64, 'vemos': 63, 'partido': 62, 'principiante': 62, 'reservada': 61, 'sabado': 53, 'gente': 51, 'marco': 51, 'dos': 50, 'libre': 48, 'quedo': 48, 'leo': 48, 'pareja': 46, 'agustin': 46, 'voy': 45, 'lino': 44, 'domingo': 44, 'estan': 44, 'perfecto': 43, 'tambien': 43, 'tardes': 43, 'vamos': 42, 'ver': 42, 'hola': 37, 'solo': 36, 'ahora': 36, 'aca': 36, 'esteban': 36, 'sumo': 35, 'amigo': 35, 'rey': 34, 'puedo': 33, 'ale': 33, 'reservar': 32, 'franco': 32, 'nacho': 31, 'asi': 30, 'abrazo': 30, 'santiago': 30, 'lista': 29, 'puede': 29, 'reserve': 29, 'aun': 29, 'suma': 29, 'queda': 28, 'perdon': 28, 'facundo': 27, 'ta': 27, 'mar': 27, 'vos': 26, 'guardas': 26, 'tiempo': 25, 'podes': 25, 'grupo': 25, 'mie': 25, 'cerrado': 24, 'torneo': 24, 'pasa': 23, 'momento': 23, 'arma': 23, 'igual': 22, 'alguna': 22, 'completar': 22, 'armar': 22, 'algun': 22, 'bienvenido': 22, 'tarde': 21, 'llego': 21, 'reserva': 20, 'avisar': 20, 'recien': 20, 'creo': 20, 'habia': 19, 'buena': 19, 'complejo': 19, 'va': 19, 'horario': 19, 'federico': 19, 'hace': 18, 'sigue': 18, 'llega': 18, 'reservo': 18, 'lujo': 18, 'dudas': 18, 'notable': 18, 'lea': 18, 'bajo': 18, 'lindo': 18, 'ir': 18, 'vi': 17, 'disponible': 17, 'mateo': 17, 'quiero': 17, 'feliz': 17, 'camilo': 17, 'dardo': 17, 'quiere': 16, 'bruno': 16, 'privado': 16, 'faltan': 16, 'impecable': 16, 'entonces': 16, 'cancelamos': 16, 'nadie': 16, 'faltando': 15, 'padel': 15, 'aviso': 15, 'problema': 15, 'dejo': 15, 'juego': 15, 'mal': 15, 'caso': 14, 'temprano': 14, 'jugador': 14, 'mejor': 14, 'buenazo': 14, 'categoria': 14, 'liberaron': 14, 'edito': 13, 'damos': 12, 'ramiro': 12, 'rato': 12, 'final': 12, 'rodrigo': 12, 'liberamos': 11, 'tenes': 11, 'ayer': 11, 'ah': 11, 'despues': 11, 'paso': 11, 'podemos': 11, 'disculpas': 11, 'lugar': 11, 'deje': 11, 'clase': 11, 'llegamos': 11, 'mojada': 11, 'avisen': 10, 'nomas': 10, 'todavia': 10, 'claro': 10, 'barbaro': 10, 'cosa': 10, 'parece': 10, 'queres': 10, 'dan': 10, 'primero': 10, 'juega': 10, 'quiera': 10, 'hecho': 9, 'hacer': 9, 'capaz': 9, 'quedan': 9, 'mismo': 9, 'espera': 9, 'aparece': 9, 'paleta': 9, 'completa': 9, 'ustedes': 9, 'llueve': 9, 'jugamos': 9, 'bastante': 9, 'cualquier': 9, 'completamos': 9, 'veo': 9, 'sino': 9, 'flecha': 9, 'tipo': 9, 'favor': 9, 'sirve': 9, 'felipe': 9, 'club': 8, 'dicen': 8, 'anoto': 8, 'compa': 8, 'nombre': 8, 'disculpa': 8, 'espero': 8, 'sexta': 8, 'marque': 8, 'libera': 8, 'companero': 8, 'disculpen': 8, 'martin': 8, 'reservaron': 8, 'partir': 8, 'obvio': 8, 'listo': 8, 'quieres': 8, 'cancelo': 8, 'anda': 8, 'nuevo': 8, 'reservaste': 7, 'salir': 7, 'adelante': 7, 'opa': 7, 'quieren': 7, 'siempre': 7, 'puse': 7, 'justo': 7, 'hermano': 7, 'yendo': 7, 'llegan': 7, 'sabe': 7, 'ser': 7, 'barra': 7, 'faltar': 7, 'abierto': 7, 'tan': 7, 'dar': 7, 'pueden': 7, 'pregunto': 7, 'ganamos': 7, 'gol': 7, 'confirmo': 7, 'duda': 6, 'luego': 6, 'contigo': 6, 'tal': 6, 'jugando': 6, 'prende': 6, 'acepte': 6, 'recuerden': 6, 'sumar': 6, 'menos': 6, 'tomo': 6, 'liberar': 6, 'dice': 6, 'foto': 6, 'podia': 6, 'llovio': 6, 'pase': 6, 'salio': 6, 'pido': 6, 'llegar': 6, 'nivel': 6, 'meter': 6, 'unas': 6, 'llovizna': 6, 'semana': 6, 'pongo': 6, 'sera': 6, 'suspendemos': 6, 'cerramos': 6, 'cancelado': 6, 'posible': 6, 'libres': 6, 'banda': 6, 'veces': 6, 'acosta': 6, 'chino': 6, 'importante': 5, 'interesa': 5, 'trabajo': 5, 'persona': 5, 'mala': 5, 'mia': 5, 'ganas': 5, 'juegan': 5, 'vuelta': 5, 'ando': 5, 'rival': 5, 'consulta': 5, 'cambio': 5, 'ojala': 5, 'cero': 5, 'par': 5, 'complica': 5, 'rafa': 5, 'misma': 5, 'vez': 5, 'ultimo': 5, 'llegue': 5, 'masita': 5, 'lado': 5, 'lastima': 5, 'poder': 5, 'primer': 5, 'tercera': 5, 'dejamos': 5, 'tener': 5, 'cancelar': 5, 'tremendo': 5, 'verdad': 5, 'van': 5, 'campeonato': 5, 'reservado': 5, 'cuanto': 5, 'esperando': 5, 'poner': 5, 'lloviendo': 5, 'idea': 5, 'pela': 5, 'agarrar': 5, 'grande': 5, 'mano': 5, 'vas': 5, 'excelente': 5, 've': 5, 'deja': 5, 'bajar': 5, 'tres': 5, 'rodriguez': 5, 'fuerte': 5, 'hacemos': 4, 'pedir': 4, 'entiendo': 4, 'entrar': 4, 'entro': 4, 'tenia': 4, 'esperemos': 4, 'apenas': 4, 'molestar': 4, 'pregunta': 4, 'llevo': 4, 'mira': 4, 'paz': 4, 'drama': 4, 'faltaria': 4, 'sos': 4, 'dijo': 4, 'confirmas': 4, 'sume': 4, 'confirmado': 4, 'avise': 4, 'saber': 4, 'joda': 4, 'ambos': 4, 'tamo': 4, 'cosas': 4, 'complico': 4, 'parte': 4, 'complicado': 4, 'cada': 4, 'lloviznando': 4, 'iba': 4, 'largo': 4, 'uh': 4, 'jugado': 4, 'tas': 4, 'sobrino': 4, 'pedimos': 4, 'cuarta': 4, 'tema': 4, 'interesado': 4, 'suman': 4, 'finde': 4, 'armamos': 4, 'esperamos': 4, 'alentar': 4, 'conmigo': 4, 'metida': 4, 'vine': 4, 'sabes': 4, 'cancela': 4, 'nono': 4, 'arranca': 4, 'permite': 4, 'secas': 4, 'preguntar': 4, 'entendi': 4, 'noche': 4, 'junio': 4, 'cambiar': 4, 'aparecio': 4, 'fijo': 4, 'alejo': 4, 'dio': 4, 'hombro': 4, 'traten': 4, 'tormenta': 4, 'marquemos': 3, 'ejemplo': 3, 'armando': 3, 'posibilidad': 3, 'completado': 3, 'formas': 3, 'sirven': 3, 'loco': 3, 'seguimos': 3, 'tardecita': 3, 'ultima': 3, 'je': 3, 'seguir': 3, 'sigo': 3, 'animas': 3, 'precisa': 3, 'archivo': 3, 'adjunto': 3, 'pasado': 3, 'llegas': 3, 'viene': 3, 'falte': 3, 'sabia': 3, 'escriben': 3, 'confirmaron': 3, 'escribir': 3, 'arme': 3, 'recepcion': 3, 'probar': 3, 'perdona': 3, 'fija': 3, 'avisa': 3, 'ida': 3, 'pibe': 3, 'hable': 3, 'reservamos': 3, 'andas': 3, 'sol': 3, 'imagino': 3, 'ordenes': 3, 'enlace': 3, 'pense': 3, 'aplicacion': 3, 'marchamos': 3, 'genial': 3, 'salga': 3, 'pueda': 3, 'seca': 3, 'vengo': 3, 'pidio': 3, 'confirma': 3, 'pedi': 3, 'ocupada': 3, 'equipo': 3, 'aprovecho': 3, 'venir': 3, 'mucha': 3, 'suerte': 3, 'segui': 3, 'toque': 3, 'arman': 3, 'estaria': 3, 'deporte': 3, 'jugue': 3, 'ojo': 3, 'dificil': 3, 'cualquiera': 3, 'roto': 3, 'medio': 3, 'humedad': 3, 'maso': 3, 'habian': 3, 'nueva': 3, 'avisamos': 3, 'tremenda': 3, 'prefiero': 3, 'realidad': 3, 'mirando': 3, 'fecha': 3, 'remera': 3, 'cuesta': 3, 'mando': 3, 'oportunidad': 3, 'saben': 3, 'mitad': 3, 'vayan': 3, 'casi': 3, 'humeda': 3, 'dejan': 3, 'frio': 3, 'objetivo': 3, 'ofrecer': 3, 'forma': 3, 'pinta': 3, 'necesita': 3, 'viendo': 3, 'intencion': 3, 'precisamos': 3, 'proxima': 3, 'punto': 3, 'normal': 3, 'aprovechen': 3, 'llover': 3, 'che': 3, 'agarro': 3, 'pita': 3, 'bajada': 3, 'usar': 2, 'repito': 2, 'sabria': 2, 'quise': 2, 'visto': 2, 'hagan': 2, 'prudencial': 2, 'lejos': 2, 'vender': 2, 'bajamos': 2, 'san': 2, 'luis': 2, 'reducto': 2, 'bala': 2, 'camaron': 2, 'duerme': 2, 'pausa': 2, 'esten': 2, 'quedaron': 2, 'noma': 2, 'faltaba': 2, 'tocayo': 2, 'exito': 2, 'quedaste': 2, 'numero': 2, 'acorde': 2, 'manera': 2, 'mande': 2, 'personas': 2, 'di': 2, 'confirmen': 2, 'cuatro': 2, 'ocupado': 2, 'escribi': 2, 'confirmar': 2, 'linda': 2, 'ja': 2, 'confirman': 2, 'banco': 2, 'tubo': 2, 'animan': 2, 'estacionamiento': 2, 'hago': 2, 'completan': 2, 'raro': 2, 'familia': 2, 'hacen': 2, 'hablar': 2, 'mojado': 2, 'atras': 2, 'lindas': 2, 'cane': 2, 'secan': 2, 'sacamos': 2, 'lluvia': 2, 'vivo': 2, 'alla': 2, 'salee': 2, 'segundo': 2, 'conseguis': 2, 'corre': 2, 'hablamos': 2, 'aprovechar': 2, 'aclaracion': 2, 'simplemente': 2, 'contesta': 2, 'unica': 2, 'marca': 2, 'entra': 2, 'suspendo': 2, 'seguro': 2, 'mayo': 2, 'disputa': 2, 'quinta': 2, 'definido': 2, 'sido': 2, 'deseen': 2, 'recordar': 2, 'mediodia': 2, 'pasar': 2, 'cuorum': 2, 'breve': 2, 'puedas': 2, 'metiendo': 2, 'busco': 2, 'ano': 2, 'piensan': 2, 'seguramente': 2, 'dando': 2, 'merecido': 2, 'sparring': 2, 'mencionar': 2, 'doble': 2, 'decir': 2, 'ficha': 2, 'segunda': 2, 'disposicion': 2, 'pelotear': 2, 'debutaste': 2, 'enseguida': 2, 'acabo': 2, 'cita': 2, 'metemos': 2, 'metes': 2, 'paro': 2, 'acaba': 2, 'recuperado': 2, 'pal': 2, 'vuelvo': 2, 'futbol': 2, 'avance': 2, 'agregar': 2, 'digan': 2, 'arranco': 2, 'sigan': 2, 'bravo': 2, 'pidiendo': 2, 'habla': 2, 'decia': 2, 'complicaba': 2, 'quedado': 2, 'mandar': 2, 'disparate': 2, 'demas': 2, 'inscripcion': 2, 'costo': 2, 'cerro': 2, 'set': 2, 'tratar': 2, 'preguntamos': 2, 'saldra': 2, 'salen': 2, 'cuenta': 2, 'ofreci': 2, 'disponibilidad': 2, 'dato': 2, 'primo': 2, 'sumas': 2, 'necesitamos': 2, 'informacion': 2, 'trabajan': 2, 'cupo': 2, 'atento': 2, 'perdido': 2, 'cancelacion': 2, 'erre': 2, 'dejar': 2, 'digo': 2, 'cabeza': 2, 'nuevamente': 2, 'eliminaste': 2, 'equivoque': 2, 'vende': 2, 'da': 2, 'peor': 2, 'llamar': 2, 'gran': 2, 'lebron': 2, 'varias': 2, 'consigo': 2, 'hambre': 2, 'armaron': 2, 'hagas': 2, 'arana': 2, 'adentro': 2, 'mes': 2, 'locura': 2, 'na': 2, 'llegando': 2, 'pedida': 2, 'bateria': 2, 'terminar': 2, 'ademas': 2, 'pregunte': 2, 'anota': 2, 'joya': 2, 'pruebo': 2, 'volvio': 2, 'pedro': 2, 'necesitan': 2, 'reciente': 2, 'serie': 2, 'jugaria': 2, 'escriba': 2, 'cierro': 2, 'lleguemos': 2, 'cancele': 2, 'practicar': 2, 'duro': 2, 'precisando': 2, 'pon': 2, 'codigo': 2, 'gustaria': 2, 'pide': 2, 'pasas': 2, 'salgo': 2, 'rapido': 2, 'atrevido': 2, 'piensa': 2, 'sabemos': 2, 'conseguir': 2, 'quieras': 2, 'quede': 2, 'picante': 2, 'mango': 2, 'empezando': 2, 'ocupo': 2, 'agarre': 2, 'sepas': 2, 'aguantan': 2, 'toca': 2, 'suspendido': 2, 'actualizo': 2, 'aparte': 2, 'pelota': 2, 'pasen': 2, 'padre': 2, 'pretende': 2, 'figura': 2, 'cayo': 2, 'avisan': 2, 'inclusive': 2, 'viste': 2, 'anden': 2, 'cambias': 2, 'volviendo': 2, 'meses': 2, 'pared': 2, 'pala': 2, 'descuento': 2, 'aceptaste': 1, 'pidan': 1, 'dejen': 1, 'azar': 1, 'desmorona': 1, 'llegaste': 1, 'duplicabamos': 1, 'complete': 1, 'marcas': 1, 'reservan': 1, 'totalmente': 1, 'aproveche': 1, 'situacion': 1, 'repite': 1, 'refrescar': 1, 'mecanismo': 1, 'estrategia': 1, 'llevamos': 1, 'empece': 1, 'entrenar': 1, 'quizas': 1, 'despegado': 1, 'des': 1, 'manija': 1, 'lee': 1, 'culpa': 1, 'preparamos': 1, 'firme': 1, 'desesperado': 1, 'ultimas': 1, 'bue': 1, 'tirado': 1, 'qu': 1, 'prendo': 1, 'maximo': 1, 'orden': 1, 'maniatico': 1, 'aunque': 1, 'anote': 1, 'embotellado': 1, 'acaso': 1, 'avisaron': 1, 'tio': 1, 'dejaba': 1, 'olvide': 1, 'servido': 1, 'busca': 1, 'olviden': 1, 'cierta': 1, 'circunstancial': 1, 'ocurrio': 1, 'escribieron': 1, 'diera': 1, 'entienda': 1, 'pidieron': 1, 'leido': 1, 'armen': 1, 'refieres': 1, 'dije': 1, 'llueva': 1, 'afloja': 1, 'casa': 1, 'trabajamos': 1, 'pepe': 1, 'agradezco': 1, 'cerca': 1, 'camino': 1, 'cantina': 1, 'sente': 1, 'apoye': 1, 'suelo': 1, 'podras': 1, 'agarramos': 1, 'descansa': 1, 'pasaron': 1, 'cancelas': 1, 'full': 1, 'liberas': 1, 'toda': 1, 'aclaro': 1, 'ligo': 1, 'quedara': 1, 'siesta': 1, 'potable': 1, 'pusimos': 1, 'companera': 1, 'arreglado': 1, 'coma': 1, 'camaraderia': 1, 'iguales': 1, 'jodio': 1, 'idem': 1, 'vio': 1, 'borrar': 1, 'brava': 1, 'iria': 1, 'mono': 1, 'frontera': 1, 'ganador': 1, 'prueba': 1, 'quieta': 1, 'mixta': 1, 'llama': 1, 'figuraba': 1, 'prefieres': 1, 'logran': 1, 'usando': 1, 'entienden': 1, 'distraido': 1, 'animo': 1, 'pesado': 1, 'funcionamiento': 1, 'logrado': 1, 'acompana': 1, 'consiguen': 1, 'llamado': 1, 'podra': 1, 'diluvio': 1, 'arca': 1, 'ligando': 1, 'informamos': 1, 'inscribio': 1, 'disputara': 1, 'puntual': 1, 'debe': 1, 'presentar': 1, 'suplente': 1, 'conversando': 1, 'conjunto': 1, 'decidira': 1, 'base': 1, 'funcion': 1, 'conocimiento': 1, 'participar': 1, 'escribe': 1, 'representar': 1, 'inscriban': 1, 'anoten': 1, 'presente': 1, 'hara': 1, 'clasificatorio': 1, 'fin': 1, 'defina': 1, 'achiquen': 1, 'ves': 1, 'entregar': 1, 'definitiva': 1, 'requisito': 1, 'excluyente': 1, 'confeccionamos': 1, 'eliminatoria': 1, 'gris': 1, 'saco': 1, 'arrobe': 1, 'vayas': 1, 'arrima': 1, 'completaron': 1, 'armas': 1, 'hice': 1, 'acta': 1, 'valor': 1, 'genio': 1, 'conocer': 1, 'placer': 1, 'calidad': 1, 'arroba': 1, 'laburas': 1, 'papi': 1, 'mundo': 1, 'aires': 1, 'mirado': 1, 'broma': 1, 'alli': 1, 'manejas': 1, 'representen': 1, 'florida': 1, 'aprendemos': 1, 'aflojar': 1, 'profe': 1, 'razon': 1, 'diez': 1, 'dominando': 1, 'dejes': 1, 'hicimos': 1, 'cierto': 1, 'cuenten': 1, 'acumularon': 1, 'aflojas': 1, 'beba': 1, 'enferma': 1, 'vendimos': 1, 'busque': 1, 'comparta': 1, 'terminan': 1, 'ganando': 1, 'admirable': 1, 'cantar': 1, 'sacar': 1, 'ventaja': 1, 'partida': 1, 'actitud': 1, 'alcanza': 1, 'opcional': 1, 'aprovechamos': 1, 'movimos': 1, 'divertimos': 1, 'repita': 1, 'creer': 1, 'volve': 1, 'barato': 1, 'dieran': 1, 'serias': 1, 'publico': 1, 'levanto': 1, 'contento': 1, 'deseo': 1, 'acompanar': 1, 'seran': 1, 'obviamente': 1, 'arrancan': 1, 'extienden': 1, 'auto': 1, 'acompano': 1, 'mil': 1, 'doblar': 1, 'rodilla': 1, 'peloteando': 1, 'mejora': 1, 'seque': 1, 'levanta': 1, 'rotando': 1, 'rotas': 1, 'organizar': 1, 'juliano': 1, 'ruta': 1, 'llovia': 1, 'frene': 1, 'tendinitis': 1, 'retomo': 1, 'habias': 1, 'cuento': 1, 'actualizar': 1, 'ganado': 1, 'envie': 1, 'funcionalidad': 1, 'graban': 1, 'posta': 1, 'nariz': 1, 'definicion': 1, 'empezo': 1, 'tiraste': 1, 'divino': 1, 'noticia': 1, 'alegro': 1, 'tomado': 1, 'decision': 1, 'crecer': 1, 'techar': 1, 'dependera': 1, 'tendran': 1, 'prioridad': 1, 'ocupar': 1, 'venimos': 1, 'haciendo': 1, 'antiguedad': 1, 'dibujo': 1, 'meramente': 1, 'ilustrativo': 1, 'excusas': 1, 'impresionante': 1, 'cayeron': 1, 'optimo': 1, 'mata': 1, 'contrario': 1, 'parecia': 1, 'remato': 1, 'vida': 1, 'representan': 1, 'pisano': 1, 'grana': 1, 'jornada': 1, 'arrancaron': 1, 'despertar': 1, 'historial': 1, 'delante': 1, 'arreglamos': 1, 'empano': 1, 'juntar': 1, 'llene': 1, 'giras': 1, 'blanca': 1, 'dejaron': 1, 'olvidada': 1, 'intercambiar': 1, 'llamas': 1, 'anunciamos': 1, 'proximo': 1, 'practico': 1, 'pedido': 1, 'anunciado': 1, 'comunico': 1, 'resto': 1, 'pasando': 1, 'gano': 1, 'felicitacion': 1, 'director': 1, 'haremos': 1, 'jugaron': 1, 'jugaban': 1, 'nombres': 1, 'comento': 1, 'cambie': 1, 'tira': 1, 'demore': 1, 'marche': 1, 'dado': 1, 'encontre': 1, 'cambiaron': 1, 'corrimos': 1, 'acepto': 1, 'guiamos': 1, 'teniamos': 1, 'viable': 1, 'sigues': 1, 'queriendo': 1, 'tranquilo': 1, 'adicional': 1, 'preguntando': 1, 'masculino': 1, 'femenino': 1, 'sumamos': 1, 'espalda': 1, 'cara': 1, 'esperaba': 1, 'tendencia': 1, 'asisten': 1, 'top': 1, 'aclara': 1, 'cancelan': 1, 'clara': 1, 'secara': 1, 'clima': 1, 'fase': 1, 'rompiendo': 1, 'tiro': 1, 'enserio': 1, 'querido': 1, 'actual': 1, 'haber': 1, 'pondria': 1, 'arrimo': 1, 'interno': 1, 'arreglan': 1, 'preguntado': 1, 'percate': 1, 'revisando': 1, 'jueguen': 1, 'tampoco': 1, 'prefieren': 1, 'correr': 1, 'carbono': 1, 'informar': 1, 'siguiente': 1, 'telefono': 1, 'compas': 1, 'manan': 1, 'mamita': 1, 'alegria': 1, 'progreso': 1, 'increible': 1, 'sabian': 1, 'entreveran': 1, 'felicito': 1, 'precioso': 1, 'despegada': 1, 'saluda': 1, 'calle': 1, 'uf': 1, 'celular': 1, 'vivi': 1, 'carne': 1, 'propia': 1, 'personalmente': 1, 'temas': 1, 'companerismo': 1, 'fundamental': 1, 'salis': 1, 'saludas': 1, 'pedis': 1, 'vista': 1, 'crecimiento': 1, 'anterior': 1, 'guri': 1, 'guiso': 1, 'contestaron': 1, 'estare': 1, 'vendida': 1, 'pila': 1, 'honor': 1, 'aburrio': 1, 'galan': 1, 'pensar': 1, 'emocionado': 1, 'debido': 1, 'consultas': 1, 'surgido': 1, 'decidido': 1, 'crear': 1, 'paralelo': 1, 'ingresar': 1, 'mediante': 1, 'invitacion': 1, 'venta': 1, 'unicamente': 1, 'evitamos': 1, 'generar': 1, 'sirva': 1, 'lei': 1, 'excitacion': 1, 'manejamos': 1, 'encontrar': 1, 'aguja': 1, 'pajar': 1, 'acecho': 1, 'embargo': 1, 'doblete': 1, 'negociando': 1, 'permiso': 1, 'boludo': 1, 'extrano': 1, 'deberias': 1, 'volver': 1, 'clave': 1, 'hizo': 1, 'laburando': 1, 'sumaba': 1, 'penal': 1, 'gamba': 1, 'manda': 1, 'aceptaron': 1, 'fines': 1, 'acordaba': 1, 'pudo': 1, 'falto': 1, 'respondemos': 1, 'volvi': 1, 'costaba': 1, 'habra': 1, 'leche': 1, 'vale': 1, 'alquilaba': 1, 'prestan': 1, 'cobran': 1, 'garganta': 1, 'fiebre': 1, 'chiveo': 1, 'especifico': 1, 'ningun': 1, 'relativamente': 1, 'entraste': 1, 'creado': 1, 'ventas': 1, 'vendo': 1, 'anotado': 1, 'terror': 1, 'soldado': 1, 'marear': 1, 'saliendo': 1, 'nublado': 1, 'transicion': 1, 'movido': 1, 'sumado': 1, 'termino': 1, 'carajo': 1, 'festejar': 1, 'contando': 1, 'somo': 1, 'eh': 1, 'solicitaron': 1, 'tenian': 1, 'ayudo': 1, 'referencia': 1, 'dentro': 1, 'finalista': 1, 'tendrias': 1, 'mauro': 1, 'tranquilamente': 1, 'alrededor': 1, 'diagnostico': 1, 'consulto': 1, 'define': 1, 'mirar': 1, 'acceso': 1, 'contrasena': 1, 'computadora': 1, 'precisas': 1, 'entras': 1, 'internet': 1, 'armada': 1, 'armes': 1, 'cedio': 1, 'arregle': 1, 'nunca': 1, 'armaste': 1, 'copie': 1, 'respondieron': 1, 'chiviar': 1, 'meto': 1, 'jordan': 1, 'tarjes': 1, 'consegui': 1, 'juegues': 1, 'vengan': 1, 'lleven': 1, 'canasta': 1, 'termine': 1, 'andan': 1, 'corren': 1, 'feriado': 1, 'cuentan': 1, 'movimiento': 1, 'cross': 1, 'frente': 1, 'madera': 1, 'doy': 1, 'informo': 1, 'abrio': 1, 'pongan': 1, 'cambia': 1, 'historia': 1, 'segun': 1, 'ambiente': 1, 'rocio': 1, 'empanen': 1, 'queden': 1, 'veremos': 1, 'hablado': 1, 'falso': 1, 'semanal': 1, 'primera': 1, 'liberada': 1, 'quieto': 1, 'llegaban': 1, 'buscaste': 1, 'libere': 1, 'avisado': 1, 'dejas': 1, 'vuela': 1, 'dea': 1, 'fea': 1, 'cambiabas': 1, 'panza': 1, 'divina': 1, 'lloran': 1, 'literalmente': 1, 'paga': 1, 'dios': 1, 'amos': 1, 'ami': 1, 'hablo': 1, 'faltarian': 1, 'olvides': 1, 'anuncias': 1, 'hueco': 1, 'consiguieron': 1, 'confundi': 1, 'venis': 1, 'regreso': 1, 'bajas': 1, 'tardar': 1, 'chance': 1, 'marcamos': 1, 'comas': 1, 'apenitas': 1, 'armaremos': 1, 'siguen': 1, 'caigan': 1, 'internacional': 1, 'embocar': 1, 'papas': 1, 'aquellos': 1, 'armado': 1, 'ninguna': 1, 'traer': 1, 'ubico': 1, 'ne': 1, 'conseguimos': 1, 'correspondiente': 1, 'chequean': 1, 'ven': 1, 'colaboracion': 1, 'viaje': 1, 'trato': 1, 'perdi': 1, 'respondio': 1, 'entrando': 1, 'aparecia': 1, 'puso': 1, 'pensabamos': 1, 'dom': 1, 'avanzado': 1, 'compromiso': 1, 'derecha': 1, 'dijeron': 1, 'escribia': 1, 'julio': 1, 'enojado': 1, 'colocar': 1, 'jodi': 1, 'muneca': 1, 'casualidad': 1, 'mixto': 1, 'prender': 1, 'faltas': 1, 'abstinencia': 1, 'gusta': 1, 'mandate': 1, 'verguenza': 1, 'molesta': 1, 'jugas': 1, 'titi': 1, 'jodido': 1, 'salta': 1, 'mecho': 1, 'cedo': 1, 'solicitado': 1, 'liberaba': 1, 'rapidito': 1, 'sumen': 1, 'podria': 1, 'llovido': 1, 'poca': 1, 'queria': 1, 'cuadras': 1, 'terminamos': 1, 'revise': 1, 'tomaron': 1, 'imposible': 1, 'aclarado': 1, 'implacable': 1, 'despejado': 1, 'salvavidas': 1, 'anoche': 1, 'baja': 1, 'jugaste': 1, 'compania': 1, 'entreverado': 1, 'explica': 1, 'claves': 1, 'explican': 1, 'furor': 1, 'insignia': 1, 'aprendio': 1, 'olvido': 1, 'paella': 1, 'completas': 1, 'aprendiste': 1, 'petizo': 1, 'erra': 1, 'bandeja': 1, 'onda': 1, 'parecera': 1, 'golpe': 1, 'version': 1, 'reves': 1, 'jugo': 1, 'registrado': 1, 'perfil': 1, 'copando': 1, 'hincha': 1, 'boca': 1, 'llenas': 1, 'avisas': 1, 'redactado': 1, 'sumaria': 1, 'sedo': 1, 'puedan': 1, 'soliciten': 1, 'contesten': 1, 'respuesta': 1, 'fije': 1, 'das': 1, 'agarren': 1, 'encabezamos': 1, 'media': 1, 'muchacho': 1, 'quieran': 1, 'completaba': 1, 'estiran': 1, 'poquito': 1, 'rama': 1, 'perdonen': 1, 'bajaron': 1, 'acuerdo': 1, 'aguantas': 1, 'seguis': 1, 'visible': 1, 'aparecian': 1, 'apareciera': 1, 'refiero': 1, 'desvirtue': 1, 'corresponde': 1, 'tratemos': 1, 'respetar': 1, 'vendio': 1, 'quedaba': 1, 'repasen': 1, 'listas': 1, 'limpio': 1, 'convocatoria': 1, 'llenaste': 1, 'rock': 1, 'especifica': 1, 'confirme': 1, 'lamentablemente': 1, 'puen': 1, 'guardar': 1, 'agrega': 1, 'conteste': 1, 'ocupa': 1, 'andamos': 1, 'armo': 1, 'pegado': 1, 'puerta': 1, 'junto': 1, 'costando': 1, 'venido': 1, 'agosto': 1, 'antemano': 1, 'utilizar': 1, 'recuperar': 1, 'pasada': 1, 'electrica': 1, 'mojaron': 1, 'trabajar': 1, 'ande': 1, 'estimado': 1, 'reflotar': 1, 'incluso': 1, 'haga': 1, 'desgarre': 1, 'desgarro': 1, 'comienzo': 1, 'tocar': 1, 'guitarra': 1, 'hacia': 1, 'calente': 1, 'boludez': 1, 'duele': 1, 'hiciste': 1, 'construccion': 1, 'vino': 1, 'pico': 1, 'vidrio': 1, 'baje': 1, 'trono': 1, 'pare': 1, 'levantar': 1, 'brazo': 1, 're': 1, 'choto': 1, 'contaste': 1, 'episodio': 1, 'documental': 1, 'vendi': 1, 'oro': 1, 'quemo': 1, 'miento': 1, 'desintoxicar': 1, 'cuerpo': 1, 'aceptan': 1, 'traidor': 1, 'recuperacion': 1, 'compartimos': 1, 'copio': 1, 'compartir': 1, 'dicho': 1, 'abre': 1, 'seria': 1, 'repasemos': 1, 'aparecen': 1, 'ocurra': 1, 'ganaste': 1})\n",
            "F_hD: Counter({'dia': 18, 'tardes': 8, 'partido': 5, 'gente': 5, 'quedan': 4, 'hora': 4, 'bueno': 4, 'estan': 3, 'alguno': 2, 'lado': 2, 'jugar': 2, 'si': 2, 'arriba': 2, 'libero': 2, 'tiempo': 2, 'armar': 2, 'dos': 2, 'situacion': 1, 'aparece': 1, 'igual': 1, 'asi': 1, 'adrian': 1, 'principiante': 1, 'avisaron': 1, 'rival': 1, 'habia': 1, 'siesta': 1, 'ver': 1, 'tan': 1, 'jugador': 1, 'mediodia': 1, 'faltan': 1, 'contento': 1, 'tarde': 1, 'reducto': 1, 'intercambiar': 1, 'preguntamos': 1, 'juegan': 1, 'final': 1, 'nadie': 1, 'justo': 1, 'interesa': 1, 'duda': 1, 'veremos': 1, 'reserve': 1, 'confirmo': 1, 'puedo': 1, 'pareja': 1, 'actualizo': 1, 'libres': 1, 'libre': 1, 'disponible': 1, 'sumen': 1, 'hola': 1, 'ir': 1, 'horario': 1, 'lindo': 1, 'cancelar': 1, 'aca': 1, 'cuorum': 1})\n",
            "P(h): 0.10739001157119821\n",
            "P(di|h): 6.791802457437133e-08\n"
          ]
        }
      ],
      "source": [
        "from src.naive_bayes_utils import *\n",
        "\n",
        "V, F_h, F_hD = build(preprocessed_data, N=1)\n",
        "\n",
        "results = {\n",
        "    'V': V,\n",
        "    'F_h': F_h,\n",
        "    'F_hD': F_hD['hoy'],\n",
        "    'P(h)': p_h('hoy', V, F_h),\n",
        "    'P(di|h)': p_hD('disponibles', 'hoy', V, F_h, F_hD)\n",
        "}\n",
        "\n",
        "for key, value in results.items():\n",
        "  print(f'{key}: {value}')\n"
      ]
    },
    {
      "cell_type": "markdown",
      "metadata": {},
      "source": [
        "#### Clase `G02NaiveBayesClassifier`\n",
        "\n",
        "La clase `G02NaiveBayesClassifier` es una implementación de un clasificador Naive Bayes. Aquí hay un resumen de sus componentes principales:\n",
        "\n",
        "- `__init__`: El constructor toma un conjunto de datos y un parámetro `N` que indica cuántas palabras anteriores se deben considerar para la predicción. El constructor también inicializa el preprocesador y construye las estructuras de datos necesarias (`V`, `F_h`, `F_hD`) utilizando la función `build`.\n",
        "\n",
        "- `predict`: Esta función toma una oración y devuelve la palabra más probable según el modelo Naive Bayes. Utiliza el logaritmo de las probabilidades para evitar problemas de precisión numérica.\n",
        "\n",
        "- `update`: Esta función actualiza el modelo con una nueva oración. Actualiza las frecuencias de las palabras y las frecuencias condicionales, así como el tamaño total del vocabulario (`V`).\n",
        "\n",
        "La clase utiliza funciones auxiliares como `p_h` y `p_hD`, definidas en el módulo `naive_bayes_utils.py`, para calcular las probabilidades de las palabras.\n",
        "\n",
        "```python\n",
        "def predict(self, sentence):\n",
        "    argmax_h = {}\n",
        "\n",
        "    for h in self.F_h.keys():\n",
        "        p = log(p_h(h, self.V, self.F_h))\n",
        "\n",
        "        for word in sentence:\n",
        "            p += log(p_hD(word, h, self.V, self.F_h, self.F_hD))\n",
        "\n",
        "        argmax_h[h] = p\n",
        "    \n",
        "    return max(argmax_h, key=argmax_h.get)\n",
        "    \n",
        "def update(self, new_sentence):\n",
        "    self.F_h.update(new_sentence)\n",
        "\n",
        "    for i in range(self.N, len(new_sentence)):\n",
        "        current_word = new_sentence[i]\n",
        "        previous_words = tuple(new_sentence[i-self.N:i])\n",
        "\n",
        "        for previous_word in previous_words:\n",
        "            self.F_hD[current_word].update([previous_word])\n",
        "    \n",
        "    self.V = sum(self.F_h.values())\n",
        "```"
      ]
    },
    {
      "cell_type": "code",
      "execution_count": null,
      "metadata": {},
      "outputs": [],
      "source": [
        "from src.bayesian_learning import G02NaiveBayesClassifier\n",
        "import time\n",
        "\n",
        "start = time.time()\n",
        "clf = G02NaiveBayesClassifier(data, N=2)\n",
        "print(f'[INIT]  Tiempo de ejecución: {time.time() - start:.4f}s')\n",
        "test = ['ejemplo']\n",
        "\n",
        "print(' '.join(test))\n",
        "\n",
        "start = time.time()\n",
        "for i in range(2): test.append(clf.predict(test))\n",
        "print(f'[PREDICT] Tiempo de ejecución: {time.time() - start:.4f}s')\n",
        "\n",
        "print(f'        V: {clf.V} \\\n",
        "    \\n          F_h[{test[1]}]: {clf.F_h[test[1]]} \\\n",
        "    \\n          F_hD[{test[1]}][{test[0]}]: {clf.F_hD[test[1]][test[0]]} \\\n",
        "    \\n          F_h[{test[2]}]: {clf.F_h[test[2]]} \\\n",
        "    \\n          F_hD[{test[2]}][{test[1]}]: {clf.F_hD[test[2]][test[1]]}')\n",
        "\n",
        "start = time.time()\n",
        "\n",
        "print(' '.join(test))\n",
        "\n",
        "clf.update(test)\n",
        "print(f'[UPDATE]  Tiempo de ejecución: {time.time() - start:.4f}s')\n",
        "\n",
        "print(f'        V: {clf.V} \\\n",
        "    \\n          F_h[{test[1]}]: {clf.F_h[test[1]]} \\\n",
        "    \\n          F_hD[{test[1]}][{test[0]}]: {clf.F_hD[test[1]][test[0]]} \\\n",
        "    \\n          F_h[{test[2]}]: {clf.F_h[test[2]]} \\\n",
        "    \\n          F_hD[{test[2]}][{test[1]}]: {clf.F_hD[test[2]][test[1]]}')"
      ]
    },
    {
      "cell_type": "markdown",
      "metadata": {},
      "source": [
        "### Evaluación\n",
        "\n",
        "En cualquier laboratorio o proyecto de investigación, la sección de evaluación es crucial para entender cómo se mide el rendimiento del modelo y qué métricas son relevantes para el problema en cuestión. Sin embargo, la naturaleza planteada en la letra del laboratorio no permite una evaluación cuantitativa del modelo. Por lo tanto, proponemos una evaluación cualitativa del modelo.\n",
        "\n",
        "No sabemos como cuantificar el hecho de que el modelo esta \"sugeriendo bien\" dado que es una percepción subjetiva del usuario que esta manteniendo una conversación con el modelo.\n",
        "\n",
        "Lo que si podemos hacer, adoptando una evaluacion ya mas relajada. Dada una sesion de cliente, cuantificar la cantidad de veces que el modelo sugiere una palabra que el usuario considera correcta.\n",
        "\n",
        "Alterando el tamaño de la ventana de palabras `N`, y el suavizado `M` buscamos encontrar un equilibrio entre las siguientes propiedades deseables:\n",
        "\n",
        "- **Memoria**: El modelo debe ser capaz de sugerir palabras que tengan coherencia con el grupo de Whatsapp de donde se extrajeron los datos.\n",
        "\n",
        "- **Adaptacion**: El modelo debe ser capaz de adaptarse a la nueva evidencia, y mejorar su performance, sugiriendo palabras que tengan coherencia con la sesion de chat que se esta simulando.\n",
        "\n",
        "Esta particularidad en la evaluación del modelo, tambien impacta en la definición de los conjuntos de entrenamiento, prueba y evaluación.\n",
        "\n",
        "El clasificador bayesiano se construye a partir de un conjunto de entrenamiento. En nuestro caso, el conjunto de entrenamiento es el conjunto de mensajes de un grupo de WhatsApp. No hay conjunto de prueba ni conjunto de evaluación. El modelo se evalúa en tiempo real, mientras el usuario (en primera instancia nosotros y luego el cuerpo docente) interactúa con el modelo y evalúa la calidad de las sugerencias."
      ]
    },
    {
      "cell_type": "markdown",
      "metadata": {},
      "source": [
        "## Experimentación"
      ]
    },
    {
      "cell_type": "markdown",
      "metadata": {},
      "source": [
        "### Simulador de cliente.\n",
        "\n",
        "El experimento consiste en evaluar los distintos hiperparametros del modelo.\n",
        "\n",
        "El siguiente script permite simular el comportamiento de un cliente que escribe frases, fue proporcionado por el cuerpo docente. Es de utilidad para experimentar con modelo, ya que permite ingresar frases y ver las sugerencias que el modelo realiza.\n",
        "\n",
        "**Nota:**\n",
        "\n",
        "El comportamiento del siguiente script en `VSCode` es diferente al comportamiento en la terminal. En VSCode, el script omite entradas, se desfasa y hace que el analisis de los resultados sea dificil. Por lo tanto, recomendamos ejecutar el script en la terminal. (`client.py`)"
      ]
    },
    {
      "cell_type": "markdown",
      "metadata": {},
      "source": [
        "## Conclusión"
      ]
    },
    {
      "cell_type": "markdown",
      "metadata": {},
      "source": [
        "Una breve conclusión del trabajo realizado. Por ejemplo: \n",
        "- ¿cuándo se dieron los mejores resultados del jugador?\n",
        "- ¿encuentra alguna relación con los parámetros / oponentes/ atributos elegidos?\n",
        "- ¿cómo mejoraría los resultados?"
      ]
    },
    {
      "cell_type": "code",
      "execution_count": null,
      "metadata": {},
      "outputs": [],
      "source": [
        "DICTIONARY_SPA_PATH = 'assets/diccionario.txt'\n",
        "with open(DICTIONARY_SPA_PATH, 'r', encoding='utf-8') as file:\n",
        "     dictionary = file.read().split('\\n')\n",
        "\n",
        "print (dictionary[:10])"
      ]
    }
  ],
  "metadata": {
    "colab": {
      "provenance": []
    },
    "kernelspec": {
      "display_name": "Python 3",
      "name": "python3"
    },
    "language_info": {
      "codemirror_mode": {
        "name": "ipython",
        "version": 3
      },
      "file_extension": ".py",
      "mimetype": "text/x-python",
      "name": "python",
      "nbconvert_exporter": "python",
      "pygments_lexer": "ipython3",
      "version": "3.10.6"
    }
  },
  "nbformat": 4,
  "nbformat_minor": 0
}
