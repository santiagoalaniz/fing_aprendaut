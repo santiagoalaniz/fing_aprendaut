{
 "cells": [
  {
   "cell_type": "markdown",
   "metadata": {},
   "source": [
    "# Entrega N - Título\n",
    "\n",
    "### Grupo M:\n",
    "     - D. Garat  C.I...\n",
    "     - G. Moncecchi C.I...\n",
    "\n"
   ]
  },
  {
   "cell_type": "markdown",
   "metadata": {},
   "source": [
    "## 1. Objetivo"
   ]
  },
  {
   "cell_type": "markdown",
   "metadata": {},
   "source": [
    "El objetivo de esta tarea es construir un jugador/clasificador/... utilizando... . \n",
    "\n",
    "El éxito del aprendizaje se mide a través de...\n"
   ]
  },
  {
   "cell_type": "markdown",
   "metadata": {},
   "source": [
    "## 2. Diseño"
   ]
  },
  {
   "cell_type": "markdown",
   "metadata": {},
   "source": [
    "En esta sección se deben presentar las decisiones tomadas a la hora de implementar el jugador, clasificador, etc.\n"
   ]
  },
  {
   "cell_type": "markdown",
   "metadata": {},
   "source": [
    "## 2.1 Preprocesamiento de datos\n",
    "- Decisiones sobre tratamiento de datos numéricos, faltantes, etc. antes de la aplicación de el algoritmo\n",
    "- Selección/generación de atributos\n"
   ]
  },
  {
   "cell_type": "code",
   "execution_count": 1,
   "metadata": {},
   "outputs": [
    {
     "name": "stdout",
     "output_type": "stream",
     "text": [
      "Archive:  ./data.zip\n",
      " extracting: ./assets/data.csv       \n",
      "ZIP file downloaded, extracted, and deleted.\n"
     ]
    },
    {
     "data": {
      "text/plain": [
       "CompletedProcess(args=['./get_data.sh'], returncode=0)"
      ]
     },
     "execution_count": 1,
     "metadata": {},
     "output_type": "execute_result"
    }
   ],
   "source": [
    "import subprocess\n",
    "subprocess.run([\"./get_data.sh\"], shell=True)"
   ]
  },
  {
   "cell_type": "code",
   "execution_count": 2,
   "metadata": {},
   "outputs": [],
   "source": [
    "import pandas as pd\n",
    "from sklearn import model_selection\n",
    "\n",
    "from src import campo_continuo as cc\n",
    "\n",
    "dataset_file = \"./assets/data.csv\"\n",
    "dataset = pd.read_csv(dataset_file, sep=\";\")\n",
    "\n",
    "columnas_continuas_name = ['Previous qualification (grade)', 'Admission grade', 'Unemployment rate', 'Inflation rate', 'GDP']\n",
    "columnas_continuas = [cc.CampoContinuo(column_name) for column_name in columnas_continuas_name]\n",
    "# Select specific columns and calculate statistics\n",
    "column_stats = dataset[columnas_continuas_name].agg(['mean', 'max', 'min'])\n",
    "\n",
    "for column in columnas_continuas:\n",
    "    column.rangos(column_stats[column.nombre]['max'], column_stats[column.nombre]['mean'], column_stats[column.nombre]['min'])\n",
    "    dataset[column.nombre] = dataset[column.nombre].apply(column.calificar)\n",
    "\n"
   ]
  },
  {
   "cell_type": "markdown",
   "metadata": {},
   "source": [
    "Prueba:"
   ]
  },
  {
   "cell_type": "code",
   "execution_count": 3,
   "metadata": {},
   "outputs": [
    {
     "name": "stdout",
     "output_type": "stream",
     "text": [
      "4424 records read from ./assets/data.csv\n",
      "37 attributes found\n"
     ]
    },
    {
     "data": {
      "text/html": [
       "<div>\n",
       "<style scoped>\n",
       "    .dataframe tbody tr th:only-of-type {\n",
       "        vertical-align: middle;\n",
       "    }\n",
       "\n",
       "    .dataframe tbody tr th {\n",
       "        vertical-align: top;\n",
       "    }\n",
       "\n",
       "    .dataframe thead th {\n",
       "        text-align: right;\n",
       "    }\n",
       "</style>\n",
       "<table border=\"1\" class=\"dataframe\">\n",
       "  <thead>\n",
       "    <tr style=\"text-align: right;\">\n",
       "      <th></th>\n",
       "      <th>Marital status</th>\n",
       "      <th>Application mode</th>\n",
       "      <th>Application order</th>\n",
       "      <th>Course</th>\n",
       "      <th>Daytime/evening attendance\\t</th>\n",
       "      <th>Previous qualification</th>\n",
       "      <th>Previous qualification (grade)</th>\n",
       "      <th>Nacionality</th>\n",
       "      <th>Mother's qualification</th>\n",
       "      <th>Father's qualification</th>\n",
       "      <th>...</th>\n",
       "      <th>Curricular units 2nd sem (credited)</th>\n",
       "      <th>Curricular units 2nd sem (enrolled)</th>\n",
       "      <th>Curricular units 2nd sem (evaluations)</th>\n",
       "      <th>Curricular units 2nd sem (approved)</th>\n",
       "      <th>Curricular units 2nd sem (grade)</th>\n",
       "      <th>Curricular units 2nd sem (without evaluations)</th>\n",
       "      <th>Unemployment rate</th>\n",
       "      <th>Inflation rate</th>\n",
       "      <th>GDP</th>\n",
       "      <th>Target</th>\n",
       "    </tr>\n",
       "  </thead>\n",
       "  <tbody>\n",
       "    <tr>\n",
       "      <th>0</th>\n",
       "      <td>1</td>\n",
       "      <td>17</td>\n",
       "      <td>5</td>\n",
       "      <td>171</td>\n",
       "      <td>1</td>\n",
       "      <td>1</td>\n",
       "      <td>1</td>\n",
       "      <td>1</td>\n",
       "      <td>19</td>\n",
       "      <td>12</td>\n",
       "      <td>...</td>\n",
       "      <td>0</td>\n",
       "      <td>0</td>\n",
       "      <td>0</td>\n",
       "      <td>0</td>\n",
       "      <td>0.000000</td>\n",
       "      <td>0</td>\n",
       "      <td>1</td>\n",
       "      <td>2</td>\n",
       "      <td>2</td>\n",
       "      <td>Dropout</td>\n",
       "    </tr>\n",
       "    <tr>\n",
       "      <th>1</th>\n",
       "      <td>1</td>\n",
       "      <td>15</td>\n",
       "      <td>1</td>\n",
       "      <td>9254</td>\n",
       "      <td>1</td>\n",
       "      <td>1</td>\n",
       "      <td>2</td>\n",
       "      <td>1</td>\n",
       "      <td>1</td>\n",
       "      <td>3</td>\n",
       "      <td>...</td>\n",
       "      <td>0</td>\n",
       "      <td>6</td>\n",
       "      <td>6</td>\n",
       "      <td>6</td>\n",
       "      <td>13.666667</td>\n",
       "      <td>0</td>\n",
       "      <td>3</td>\n",
       "      <td>0</td>\n",
       "      <td>2</td>\n",
       "      <td>Graduate</td>\n",
       "    </tr>\n",
       "    <tr>\n",
       "      <th>2</th>\n",
       "      <td>1</td>\n",
       "      <td>1</td>\n",
       "      <td>5</td>\n",
       "      <td>9070</td>\n",
       "      <td>1</td>\n",
       "      <td>1</td>\n",
       "      <td>1</td>\n",
       "      <td>1</td>\n",
       "      <td>37</td>\n",
       "      <td>37</td>\n",
       "      <td>...</td>\n",
       "      <td>0</td>\n",
       "      <td>6</td>\n",
       "      <td>0</td>\n",
       "      <td>0</td>\n",
       "      <td>0.000000</td>\n",
       "      <td>0</td>\n",
       "      <td>1</td>\n",
       "      <td>2</td>\n",
       "      <td>2</td>\n",
       "      <td>Dropout</td>\n",
       "    </tr>\n",
       "    <tr>\n",
       "      <th>3</th>\n",
       "      <td>1</td>\n",
       "      <td>17</td>\n",
       "      <td>2</td>\n",
       "      <td>9773</td>\n",
       "      <td>1</td>\n",
       "      <td>1</td>\n",
       "      <td>1</td>\n",
       "      <td>1</td>\n",
       "      <td>38</td>\n",
       "      <td>37</td>\n",
       "      <td>...</td>\n",
       "      <td>0</td>\n",
       "      <td>6</td>\n",
       "      <td>10</td>\n",
       "      <td>5</td>\n",
       "      <td>12.400000</td>\n",
       "      <td>0</td>\n",
       "      <td>0</td>\n",
       "      <td>0</td>\n",
       "      <td>0</td>\n",
       "      <td>Graduate</td>\n",
       "    </tr>\n",
       "    <tr>\n",
       "      <th>4</th>\n",
       "      <td>2</td>\n",
       "      <td>39</td>\n",
       "      <td>1</td>\n",
       "      <td>8014</td>\n",
       "      <td>0</td>\n",
       "      <td>1</td>\n",
       "      <td>0</td>\n",
       "      <td>1</td>\n",
       "      <td>37</td>\n",
       "      <td>38</td>\n",
       "      <td>...</td>\n",
       "      <td>0</td>\n",
       "      <td>6</td>\n",
       "      <td>6</td>\n",
       "      <td>6</td>\n",
       "      <td>13.000000</td>\n",
       "      <td>0</td>\n",
       "      <td>3</td>\n",
       "      <td>0</td>\n",
       "      <td>2</td>\n",
       "      <td>Graduate</td>\n",
       "    </tr>\n",
       "  </tbody>\n",
       "</table>\n",
       "<p>5 rows × 37 columns</p>\n",
       "</div>"
      ],
      "text/plain": [
       "   Marital status  Application mode  Application order  Course   \n",
       "0               1                17                  5     171  \\\n",
       "1               1                15                  1    9254   \n",
       "2               1                 1                  5    9070   \n",
       "3               1                17                  2    9773   \n",
       "4               2                39                  1    8014   \n",
       "\n",
       "   Daytime/evening attendance\\t  Previous qualification   \n",
       "0                             1                       1  \\\n",
       "1                             1                       1   \n",
       "2                             1                       1   \n",
       "3                             1                       1   \n",
       "4                             0                       1   \n",
       "\n",
       "   Previous qualification (grade)  Nacionality  Mother's qualification   \n",
       "0                               1            1                      19  \\\n",
       "1                               2            1                       1   \n",
       "2                               1            1                      37   \n",
       "3                               1            1                      38   \n",
       "4                               0            1                      37   \n",
       "\n",
       "   Father's qualification  ...  Curricular units 2nd sem (credited)   \n",
       "0                      12  ...                                    0  \\\n",
       "1                       3  ...                                    0   \n",
       "2                      37  ...                                    0   \n",
       "3                      37  ...                                    0   \n",
       "4                      38  ...                                    0   \n",
       "\n",
       "   Curricular units 2nd sem (enrolled)   \n",
       "0                                    0  \\\n",
       "1                                    6   \n",
       "2                                    6   \n",
       "3                                    6   \n",
       "4                                    6   \n",
       "\n",
       "   Curricular units 2nd sem (evaluations)   \n",
       "0                                       0  \\\n",
       "1                                       6   \n",
       "2                                       0   \n",
       "3                                      10   \n",
       "4                                       6   \n",
       "\n",
       "   Curricular units 2nd sem (approved)  Curricular units 2nd sem (grade)   \n",
       "0                                    0                          0.000000  \\\n",
       "1                                    6                         13.666667   \n",
       "2                                    0                          0.000000   \n",
       "3                                    5                         12.400000   \n",
       "4                                    6                         13.000000   \n",
       "\n",
       "   Curricular units 2nd sem (without evaluations)  Unemployment rate   \n",
       "0                                               0                  1  \\\n",
       "1                                               0                  3   \n",
       "2                                               0                  1   \n",
       "3                                               0                  0   \n",
       "4                                               0                  3   \n",
       "\n",
       "   Inflation rate  GDP    Target  \n",
       "0               2    2   Dropout  \n",
       "1               0    2  Graduate  \n",
       "2               2    2   Dropout  \n",
       "3               0    0  Graduate  \n",
       "4               0    2  Graduate  \n",
       "\n",
       "[5 rows x 37 columns]"
      ]
     },
     "execution_count": 3,
     "metadata": {},
     "output_type": "execute_result"
    }
   ],
   "source": [
    "print(\"{} records read from {}\\n{} attributes found\".format(dataset.shape[0], dataset_file, dataset.shape[1]))\n",
    "dataset.head(5)"
   ]
  },
  {
   "cell_type": "markdown",
   "metadata": {},
   "source": [
    "- Convertir datos de la columna \"Target\" en datos númericos"
   ]
  },
  {
   "cell_type": "code",
   "execution_count": 4,
   "metadata": {},
   "outputs": [
    {
     "name": "stdout",
     "output_type": "stream",
     "text": [
      "Dropout -> 0\n",
      "Enrolled -> 1\n",
      "Graduate -> 2\n"
     ]
    }
   ],
   "source": [
    "from sklearn import preprocessing\n",
    "\n",
    "# creamos un codificador \"ordinal\" y lo ajustamos a la columna Target\n",
    "enc = preprocessing.OrdinalEncoder()\n",
    "enc.fit(dataset[['Target']])\n",
    "for i, cat in enumerate(enc.categories_[0]): print(\"{} -> {}\".format(cat, i))\n",
    "\n",
    "\n",
    "#transformamos la columna y la guardamos en una nueva columna\n",
    "dataset['Target']  = enc.transform(dataset[['Target']])\n",
    "\n",
    "#salida\n",
    "dataset.head(5)\n",
    "\n",
    "dataset = dataset.astype(int) \n",
    "\n",
    "train, test = model_selection.train_test_split(dataset, test_size=0.2, random_state=42)"
   ]
  },
  {
   "cell_type": "markdown",
   "metadata": {},
   "source": [
    "\n",
    "\n",
    "## 2.2 Algoritmo\n",
    "Extensiones del algoritmo original necesarias para la resolución del problema: tratamiento de atributos faltantes, numéricos, etc. (si es el propio algoritmo el que lo maneja), implementaciones adicionales necesarias para manejar ensambles de clasificadores, etc.\n",
    "\n",
    "Algoritmo básico\n",
    "* Crear una raíz\n",
    "* Si todos los ej. tienen el mismo valor → etiquetar con ese valor\n",
    "* Si no me quedan atributos → etiquetar con el valor más común\n",
    "* En caso contrario:\n",
    "    * La raíz pregunta por A, atributo que mejor clasifica los ejemplos\n",
    "    * Para cada valor v_i de A\n",
    "        * Genero una rama\n",
    "        * Ejemplosvi={ejemplos en los cuales A=vi }\n",
    "        * Si Ejemplosvi es vacío → etiquetar con el valor más probable\n",
    "        * En caso contrario → ID3(Ejemplosvi, Atributos -{A})"
   ]
  },
  {
   "cell_type": "code",
   "execution_count": 5,
   "metadata": {},
   "outputs": [],
   "source": [
    "import pandas as pd\n",
    "import numpy as np\n",
    "\n",
    "from src.nodo import Nodo\n",
    "from src.utils import get_best_attribute\n",
    "\n",
    "MIN_SAMPLES_SPLIT = 0\n",
    "MIN_SPLIT_GAIN = 0\n",
    "\n",
    "### ID3 PAPU, NACIONAL > PENADOY\n",
    "def id3(data: pd.DataFrame, attributes, target, attr, value) -> Nodo:\n",
    "    # Caso base 1: todos los datos tienen la misma clase\n",
    "    if data[target].nunique() == 1:\n",
    "        return Nodo(attr, value, tipo=Nodo.hoja, resultado=data[target].unique()[0], n_casos=data.shape[0])\n",
    "    # Caso base 2: no hay mas atributos\n",
    "    elif len(attributes) == 0:\n",
    "        return Nodo(attr, value, tipo=Nodo.hoja, resultado=data[target].mode()[0], n_casos=data.shape[0])\n",
    "\n",
    "    # Caso recursivo\n",
    "    else:\n",
    "        # Seleccionar el mejor atributo\n",
    "        best_attribute, gain, unique_values = get_best_attribute(data, attributes, target)\n",
    "        # if gain < MIN_SPLIT_GAIN:\n",
    "        #     print_value(value)\n",
    "        #     return Nodo(attr, value, tipo=Nodo.hoja, resultado=data[target].mode()[0])\n",
    "        \n",
    "        # if len(unique_values) < MIN_SAMPLES_SPLIT:\n",
    "        #     print_value(value)\n",
    "        #     return Nodo(attr, value, tipo=Nodo.hoja, resultado=data[target].mode()[0])\n",
    "\n",
    "        # Eliminar el atributo de la lista de atributos\n",
    "        attributes = attributes[attributes != best_attribute]\n",
    "        # Crear un nodo hijo por cada valor del atributo\n",
    "        children = []\n",
    "        for child_value in unique_values:\n",
    "            subdata = data[data[best_attribute] == child_value]\n",
    "            child = id3(subdata, attributes, target, best_attribute, child_value)\n",
    "            children.append(child)\n",
    "\n",
    "        return Nodo(attr, value, tipo=Nodo.rama, hijos=children, n_casos=data.shape[0])\n",
    "    \n",
    "dataset_headers = dataset.columns.values\n",
    "dataset_headers = dataset_headers[dataset_headers != 'Target']\n",
    "# dataset_headers = dataset_headers[dataset_headers != 'output']\n",
    "\n",
    "arbol = id3(train, dataset_headers[dataset_headers != 'Target'], 'Target', 'root', 0)"
   ]
  },
  {
   "cell_type": "markdown",
   "metadata": {},
   "source": [
    "\n",
    "\n",
    "## 2.3 Evaluación\n",
    "- Qué conjunto de métricas se utilizan para la evaluación de la solución y su definición\n",
    "- Sobre qué conjunto(s) se realiza el entrenamiento, ajuste de la solución, evaluación, etc. Explicar cómo se construyen estos conjuntos."
   ]
  },
  {
   "cell_type": "code",
   "execution_count": 12,
   "metadata": {},
   "outputs": [
    {
     "name": "stdout",
     "output_type": "stream",
     "text": [
      "Hits:  {'Dropout': 209, 'Enrolled': 44, 'Graduate': 334}\n",
      "Misses:  {'Dropout': {'Predicted Enrolled': 45, 'Predicted Graduate': 62}, 'Enrolled': {'Predicted Dropout': 51, 'Predicted Graduate': 56}, 'Graduate': {'Predicted Dropout': 43, 'Predicted Enrolled': 41}}\n"
     ]
    }
   ],
   "source": [
    "from src.nodo import Nodo\n",
    "\n",
    "# Dropout -> 0\n",
    "# Enrolled -> 1\n",
    "# Graduate -> 2\n",
    "\n",
    "hits = {\n",
    "    \"Dropout\": 0,\n",
    "    \"Enrolled\": 0,\n",
    "    \"Graduate\": 0\n",
    "}\n",
    "\n",
    "misses = {\n",
    "    \"Dropout\": {\n",
    "        \"Predicted Enrolled\": 0,\n",
    "        \"Predicted Graduate\": 0\n",
    "    },\n",
    "    \"Enrolled\": {\n",
    "        \"Predicted Dropout\": 0,\n",
    "        \"Predicted Graduate\": 0\n",
    "    },\n",
    "    \"Graduate\": {\n",
    "        \"Predicted Dropout\": 0,\n",
    "        \"Predicted Enrolled\": 0\n",
    "    }\n",
    "}\n",
    "\n",
    "def output_to_str(output):\n",
    "    if output == 0:\n",
    "        return \"Dropout\"\n",
    "    elif output == 1:\n",
    "        return \"Enrolled\"\n",
    "    elif output == 2:\n",
    "        return \"Graduate\"\n",
    "    else:\n",
    "        raise ValueError(\"Output must be 0, 1 or 2\")\n",
    "\n",
    "\n",
    "def get_next_node(row, nodo):\n",
    "    max_n_casos = 0\n",
    "    max_n_casos_hijo = None\n",
    "\n",
    "    for hijo in nodo.hijos:\n",
    "        if hijo.n_casos > max_n_casos:\n",
    "            max_n_casos = hijo.n_casos\n",
    "            max_n_casos_hijo = hijo\n",
    "        if hijo.valor == row[hijo.attr]:\n",
    "            return hijo\n",
    "\n",
    "    return max_n_casos_hijo\n",
    "\n",
    "\n",
    "def get_result(row, nodo):\n",
    "    if nodo.tipo == Nodo.hoja:\n",
    "        return nodo.resultado\n",
    "    else:\n",
    "        return get_result(row, get_next_node(row, nodo))\n",
    "\n",
    "\n",
    "# Loop through rows using iterrows()\n",
    "for index, row in test.iterrows():\n",
    "    result = get_result(row, arbol)\n",
    "    if result == row['Target']:\n",
    "        hits[output_to_str(row['Target'])] += 1\n",
    "    else:\n",
    "        misses[output_to_str(row['Target'])][\"Predicted \" + output_to_str(result)] += 1\n",
    "\n",
    "\n",
    "print(\"Hits: \", hits)\n",
    "print(\"Misses: \", misses)"
   ]
  },
  {
   "cell_type": "markdown",
   "metadata": {},
   "source": [
    "## 3. Experimentación"
   ]
  },
  {
   "cell_type": "markdown",
   "metadata": {},
   "source": [
    "- Presentar los distintos experimentos que se realizan y los resultados que se obtienen.\n",
    "\n",
    "- La información de los resultados se presenta en tablas y en gráficos, de acuerdo a su naturaleza. Por ejemplo:\n",
    "\n",
    "_En la gráfica 1, se observa el error cuadrático total del conjunto de entrenamiento a medida que pasan los juegos para el oponente X_"
   ]
  },
  {
   "cell_type": "code",
   "execution_count": null,
   "metadata": {},
   "outputs": [
    {
     "data": {
      "text/plain": [
       "[<matplotlib.lines.Line2D at 0x1137b3390>]"
      ]
     },
     "execution_count": 2,
     "metadata": {},
     "output_type": "execute_result"
    },
    {
     "data": {
      "image/png": "[encoded data removed]",
      "text/plain": [
       "<Figure size 432x288 with 1 Axes>"
      ]
     },
     "metadata": {
      "needs_background": "light"
     },
     "output_type": "display_data"
    }
   ],
   "source": [
    "import matplotlib.pyplot\n",
    "matplotlib.pyplot.plot(range(0,100), [2**-(x/10) for x in range(0,100)])"
   ]
  },
  {
   "cell_type": "markdown",
   "metadata": {},
   "source": [
    "\n",
    "- Debe existir alguna instancia donde se compile la información relevante de los experimentos de forma de poder comparar fácilmente los distintos experimentos. Por ejemplo:\n",
    "\n",
    "_En la tabla 1, se presentan los distintos resultados contra el jugador aleatorio, para los distintos valores de $\\alpha$ elegidos. El mejor resultado se obtiene para $\\alpha=0.05$, lo que prueba que la estrategia..._\n",
    "\n",
    "<table>\n",
    "  <tr>\n",
    "    <th>$\\alpha$</th>\n",
    "    <th>...</th>\n",
    "    <th>Turnos</th>\n",
    "    <th>Error</th>\n",
    "  </tr>\n",
    "  <tr>\n",
    "    <td>0.001</td>\n",
    "    <td>...</td>\n",
    "    <td>100</td>\n",
    "    <td>0.991</td>\n",
    "  </tr>    \n",
    "  <tr>\n",
    "    <td>0.005</td>\n",
    "    <td>...</td>\n",
    "    <td>100</td>\n",
    "    <td>0.987</td>\n",
    "  </tr>\n",
    "  <tr style=\"font-weight:bold\">\n",
    "    <td>0.05</td>\n",
    "    <td>...</td>\n",
    "    <td>100</td>\n",
    "    <td>0.329</td>\n",
    "  </tr>\n",
    "  <tr>\n",
    "    <td>0.5</td>\n",
    "    <td>...</td>\n",
    "    <td>100</td>\n",
    "    <td>0.564</td>\n",
    "  </tr>    \n",
    "    <caption>Tabla 1 - Entrenamiento del jugador X para distintos valores de $\\alpha$</caption>\n",
    "</table>\n"
   ]
  },
  {
   "cell_type": "markdown",
   "metadata": {},
   "source": [
    "## 4. Conclusión"
   ]
  },
  {
   "cell_type": "markdown",
   "metadata": {},
   "source": [
    "Una breve conclusión del trabajo realizado. Por ejemplo: \n",
    "- ¿cuándo se dieron los mejores resultados del jugador?\n",
    "- ¿encuentra alguna relación con los parámetros / oponentes/ atributos elegidos?\n",
    "- ¿cómo mejoraría los resultados?"
   ]
  },
  {
   "cell_type": "code",
   "execution_count": null,
   "metadata": {},
   "outputs": [],
   "source": []
  },
  {
   "cell_type": "code",
   "execution_count": null,
   "metadata": {},
   "outputs": [],
   "source": []
  }
 ],
 "metadata": {
  "kernelspec": {
   "display_name": "Python 3",
   "language": "python",
   "name": "python3"
  },
  "language_info": {
   "codemirror_mode": {
    "name": "ipython",
    "version": 3
   },
   "file_extension": ".py",
   "mimetype": "text/x-python",
   "name": "python",
   "nbconvert_exporter": "python",
   "pygments_lexer": "ipython3",
   "version": "3.10.12"
  }
 },
 "nbformat": 4,
 "nbformat_minor": 2
}
