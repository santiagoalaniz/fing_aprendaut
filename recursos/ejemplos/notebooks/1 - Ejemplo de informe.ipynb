{
 "cells": [
  {
   "cell_type": "markdown",
   "metadata": {},
   "source": [
    "# Entrega N - Título\n",
    "\n",
    "### Grupo M:\n",
    "     - D. Garat  C.I...\n",
    "     - G. Moncecchi C.I...\n",
    "\n"
   ]
  },
  {
   "cell_type": "markdown",
   "metadata": {},
   "source": [
    "## 1. Objetivo"
   ]
  },
  {
   "cell_type": "markdown",
   "metadata": {},
   "source": [
    "El objetivo de esta tarea es construir un jugador/clasificador/... utilizando... . \n",
    "\n",
    "El éxito del aprendizaje se mide a través de...\n"
   ]
  },
  {
   "cell_type": "markdown",
   "metadata": {},
   "source": [
    "## 2. Diseño"
   ]
  },
  {
   "cell_type": "markdown",
   "metadata": {},
   "source": [
    "En esta sección se deben presentar las decisiones tomadas a la hora de implementar el jugador, clasificador, etc.\n"
   ]
  },
  {
   "cell_type": "markdown",
   "metadata": {},
   "source": [
    "## Por ejemplo, para un jugador:\n",
    "    \n",
    "## 2.1 Juego\n",
    "- Decisiones sobre las reglas de juego, simplificaciones, etc.\n",
    "\n",
    "\n",
    "## 2.2 Tablero\n",
    "- Representación del tablero, justificación de los atributos utilizados\n",
    "- ¿Se prueban con varios subconjuntos de atributos distintos?; en caso afirmativo, ¿por qué?\n",
    "- Ejemplos de algunos tableros y el valor de los atributos elegidos.\n",
    "\n",
    "\n",
    "## 2.4 Algoritmo\n",
    "- ¿cómo se representa a la función de valoración? ¿qué valores toma?\n",
    "- ¿cómo se ajusta? \n",
    "- ¿cuándo se ajusta? ¿cada turno? ¿final del partido? ¿cada N partidos?\n",
    "- ¿con qué valores de $\\alpha$ se prueba? ¿por qué?\n",
    "- ¿Se utiliza enfriamiento? ¿cómo? \n",
    "\n",
    "Tal vez precisen agregar algo de pseudocódigo o código para ejemplificar:\n",
    "\n",
    "```python\n",
    "    def f(x):\n",
    "        return x\n",
    "```\n",
    "\n",
    "## 2.4 Contrarios\n",
    "- ¿qué jugadores contrarios se implementan? describir cada uno.\n",
    "- por ejemplo, deben quedar respondidas las siguientes preguntas: ¿cómo se eligen las jugadas del jugador al azar? ¿cada cuánto se actualizan los pesos de \"mi versión previa\"?"
   ]
  },
  {
   "cell_type": "markdown",
   "metadata": {},
   "source": [
    "## Por ejemplo, para un clasificador:\n",
    "    \n",
    "\n",
    "## 2.1 Preprocesamiento de datos\n",
    "- Decisiones sobre tratamiento de datos numéricos, faltantes, etc. antes de la aplicación de el algoritmo\n",
    "- Selección/generación de atributos\n",
    "\n",
    "\n",
    "## 2.2 Algoritmo\n",
    "Extensiones del algoritmo original necesarias para la resolución del problema: tratamiento de atributos faltantes, numéricos, etc. (si es el propio algoritmo el que lo maneja), implementaciones adicionales necesarias para manejar ensambles de clasificadores, etc.\n",
    "\n",
    "\n",
    "## 2.3 Evaluación\n",
    "- Qué conjunto de métricas se utilizan para la evaluación de la solución y su definición\n",
    "- Sobre qué conjunto(s) se realiza el entrenamiento, ajuste de la solución, evaluación, etc. Explicar cómo se construyen estos conjuntos."
   ]
  },
  {
   "cell_type": "markdown",
   "metadata": {},
   "source": [
    "## 3. Experimentación"
   ]
  },
  {
   "cell_type": "markdown",
   "metadata": {},
   "source": [
    "- Presentar los distintos experimentos que se realizan y los resultados que se obtienen.\n",
    "\n",
    "- La información de los resultados se presenta en tablas y en gráficos, de acuerdo a su naturaleza. Por ejemplo:\n",
    "\n",
    "_En la gráfica 1, se observa el error cuadrático total del conjunto de entrenamiento a medida que pasan los juegos para el oponente X_"
   ]
  },
  {
   "cell_type": "code",
   "execution_count": 2,
   "metadata": {},
   "outputs": [
    {
     "data": {
      "text/plain": [
       "[<matplotlib.lines.Line2D at 0x1137b3390>]"
      ]
     },
     "execution_count": 2,
     "metadata": {},
     "output_type": "execute_result"
    },
    {
     "data": {
      "image/png": "[encoded data removed]",
      "text/plain": [
       "<Figure size 432x288 with 1 Axes>"
      ]
     },
     "metadata": {
      "needs_background": "light"
     },
     "output_type": "display_data"
    }
   ],
   "source": [
    "import matplotlib.pyplot\n",
    "matplotlib.pyplot.plot(range(0,100), [2**-(x/10) for x in range(0,100)])"
   ]
  },
  {
   "cell_type": "markdown",
   "metadata": {},
   "source": [
    "\n",
    "- Debe existir alguna instancia donde se compile la información relevante de los experimentos de forma de poder comparar fácilmente los distintos experimentos. Por ejemplo:\n",
    "\n",
    "_En la tabla 1, se presentan los distintos resultados contra el jugador aleatorio, para los distintos valores de $\\alpha$ elegidos. El mejor resultado se obtiene para $\\alpha=0.05$, lo que prueba que la estrategia..._\n",
    "\n",
    "<table>\n",
    "  <tr>\n",
    "    <th>$\\alpha$</th>\n",
    "    <th>...</th>\n",
    "    <th>Turnos</th>\n",
    "    <th>Error</th>\n",
    "  </tr>\n",
    "  <tr>\n",
    "    <td>0.001</td>\n",
    "    <td>...</td>\n",
    "    <td>100</td>\n",
    "    <td>0.991</td>\n",
    "  </tr>    \n",
    "  <tr>\n",
    "    <td>0.005</td>\n",
    "    <td>...</td>\n",
    "    <td>100</td>\n",
    "    <td>0.987</td>\n",
    "  </tr>\n",
    "  <tr style=\"font-weight:bold\">\n",
    "    <td>0.05</td>\n",
    "    <td>...</td>\n",
    "    <td>100</td>\n",
    "    <td>0.329</td>\n",
    "  </tr>\n",
    "  <tr>\n",
    "    <td>0.5</td>\n",
    "    <td>...</td>\n",
    "    <td>100</td>\n",
    "    <td>0.564</td>\n",
    "  </tr>    \n",
    "    <caption>Tabla 1 - Entrenamiento del jugador X para distintos valores de $\\alpha$</caption>\n",
    "</table>\n"
   ]
  },
  {
   "cell_type": "markdown",
   "metadata": {},
   "source": [
    "## 4. Conclusión"
   ]
  },
  {
   "cell_type": "markdown",
   "metadata": {},
   "source": [
    "Una breve conclusión del trabajo realizado. Por ejemplo: \n",
    "- ¿cuándo se dieron los mejores resultados del jugador?\n",
    "- ¿encuentra alguna relación con los parámetros / oponentes/ atributos elegidos?\n",
    "- ¿cómo mejoraría los resultados?"
   ]
  },
  {
   "cell_type": "code",
   "execution_count": null,
   "metadata": {},
   "outputs": [],
   "source": []
  },
  {
   "cell_type": "code",
   "execution_count": null,
   "metadata": {},
   "outputs": [],
   "source": []
  }
 ],
 "metadata": {
  "kernelspec": {
   "display_name": "Python 3",
   "language": "python",
   "name": "python3"
  },
  "language_info": {
   "codemirror_mode": {
    "name": "ipython",
    "version": 3
   },
   "file_extension": ".py",
   "mimetype": "text/x-python",
   "name": "python",
   "nbconvert_exporter": "python",
   "pygments_lexer": "ipython3",
   "version": "3.7.0"
  }
 },
 "nbformat": 4,
 "nbformat_minor": 2
}
