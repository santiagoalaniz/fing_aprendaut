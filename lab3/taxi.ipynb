{
 "cells": [
  {
   "cell_type": "markdown",
   "metadata": {},
   "source": [
    "# Entrega 3, Grupo 02 - Aprendizaje por Refuerzos\n",
    "\n",
    "- Santiago Alaniz,  5082647-6, santiago.alaniz@fing.edu.uy\n",
    "- Bruno De Simone,  4914555-0, bruno.de.simone@fing.edu.uy\n",
    "- María Usuca,      4891124-3, maria.usuca@fing.edu.uy"
   ]
  },
  {
   "cell_type": "markdown",
   "metadata": {},
   "source": [
    "Modulo util para graficar los datos"
   ]
  },
  {
   "cell_type": "code",
   "execution_count": 2,
   "metadata": {},
   "outputs": [],
   "source": [
    "import numpy as np\n",
    "import matplotlib.pyplot as plt\n",
    "\n",
    "def calcular_promedios(iteraciones, penalizaciones):\n",
    "    print(f\"Se realizaron {np.mean(iteraciones)} iteraciones, en promedio\")\n",
    "    print(f\"Se recibieron {np.mean(penalizaciones)} penalizaciones, en promedio\")\n",
    "\n",
    "def dibujar_grafico(episodios, datos, subindice, etiqueta_y, titulo, color='blue', escala_log_x=False, escala_log_y=False):\n",
    "    plt.subplot(3, 1, subindice)\n",
    "    plt.plot(episodios, datos, color=color)\n",
    "    \n",
    "    plt.xlabel('Episodio')\n",
    "    plt.ylabel(etiqueta_y)\n",
    "    plt.title(titulo)\n",
    "    \n",
    "    if escala_log_x: plt.xscale('log')\n",
    "    if escala_log_y: plt.yscale('log')\n",
    "\n",
    "    plt.grid(True)"
   ]
  },
  {
   "cell_type": "markdown",
   "metadata": {},
   "source": [
    "Importamos la biblioteca Gymnassium, que vamos a usar como framework de RL"
   ]
  },
  {
   "cell_type": "code",
   "execution_count": 3,
   "metadata": {},
   "outputs": [
    {
     "name": "stdout",
     "output_type": "stream",
     "text": [
      "Requirement already satisfied: cmake in c:\\users\\maria usuca\\appdata\\local\\packages\\pythonsoftwarefoundation.python.3.11_qbz5n2kfra8p0\\localcache\\local-packages\\python311\\site-packages (3.27.5)\n",
      "Requirement already satisfied: gymnasium in c:\\users\\maria usuca\\appdata\\local\\packages\\pythonsoftwarefoundation.python.3.11_qbz5n2kfra8p0\\localcache\\local-packages\\python311\\site-packages (0.29.1)\n",
      "Requirement already satisfied: scipy in c:\\users\\maria usuca\\appdata\\local\\packages\\pythonsoftwarefoundation.python.3.11_qbz5n2kfra8p0\\localcache\\local-packages\\python311\\site-packages (1.11.2)\n",
      "Requirement already satisfied: numpy>=1.21.0 in c:\\users\\maria usuca\\appdata\\local\\packages\\pythonsoftwarefoundation.python.3.11_qbz5n2kfra8p0\\localcache\\local-packages\\python311\\site-packages (from gymnasium) (1.25.2)\n",
      "Requirement already satisfied: cloudpickle>=1.2.0 in c:\\users\\maria usuca\\appdata\\local\\packages\\pythonsoftwarefoundation.python.3.11_qbz5n2kfra8p0\\localcache\\local-packages\\python311\\site-packages (from gymnasium) (2.2.1)\n",
      "Requirement already satisfied: typing-extensions>=4.3.0 in c:\\users\\maria usuca\\appdata\\local\\packages\\pythonsoftwarefoundation.python.3.11_qbz5n2kfra8p0\\localcache\\local-packages\\python311\\site-packages (from gymnasium) (4.8.0)\n",
      "Requirement already satisfied: farama-notifications>=0.0.1 in c:\\users\\maria usuca\\appdata\\local\\packages\\pythonsoftwarefoundation.python.3.11_qbz5n2kfra8p0\\localcache\\local-packages\\python311\\site-packages (from gymnasium) (0.0.4)\n"
     ]
    }
   ],
   "source": [
    "!pip3 install cmake gymnasium scipy\n",
    "import gymnasium as gym"
   ]
  },
  {
   "cell_type": "markdown",
   "metadata": {},
   "source": [
    "Creamos un ambiente y lo mostramos en pantalla. Para esto definimos una función para imprimir nuestro ambiente."
   ]
  },
  {
   "cell_type": "code",
   "execution_count": 4,
   "metadata": {},
   "outputs": [
    {
     "name": "stdout",
     "output_type": "stream",
     "text": [
      "+---------+\n",
      "|\u001b[35mR\u001b[0m: | : :G|\n",
      "| : | : : |\n",
      "| : :\u001b[43m \u001b[0m: : |\n",
      "| | : | : |\n",
      "|Y| : |\u001b[34;1mB\u001b[0m: |\n",
      "+---------+\n",
      "\n",
      "\n"
     ]
    }
   ],
   "source": [
    "# La semilla usada para crear el ambiente\n",
    "semilla = 1\n",
    "\n",
    "entorno = gym.make(\"Taxi-v3\", render_mode='ansi').env\n",
    "entorno.reset(seed = semilla)\n",
    "\n",
    "# Una funcion de ayuda para imprimir el estado de nuestro mundo\n",
    "def print_env(estado):\n",
    "  env_str = estado.render()\n",
    "  print(env_str)\n",
    "\n",
    "print_env(entorno)"
   ]
  },
  {
   "cell_type": "markdown",
   "metadata": {},
   "source": [
    "\n",
    "El rectángulo de color representa el taxi, amarillo cuando va sin pasajero y verde con pasajero.\n",
    "'|' representa una pared que el taxi no puede cruzar, es decir.\n",
    "R, G, Y, B son los puntos de interés, es decir, las posibles ubicaciones de recogida y destino. La letra azul representa la ubicación actual de recogida de pasajeros, y la letra púrpura es el destino actual."
   ]
  },
  {
   "cell_type": "markdown",
   "metadata": {},
   "source": [
    "Si cambiamos la semilla, cambia el estado del ambiente."
   ]
  },
  {
   "cell_type": "code",
   "execution_count": 5,
   "metadata": {},
   "outputs": [
    {
     "name": "stdout",
     "output_type": "stream",
     "text": [
      "+---------+\n",
      "|\u001b[35mR\u001b[0m: | : :G|\n",
      "| :\u001b[43m \u001b[0m| : : |\n",
      "| : : : : |\n",
      "| | : | : |\n",
      "|\u001b[34;1mY\u001b[0m| : |B: |\n",
      "+---------+\n",
      "\n",
      "\n"
     ]
    }
   ],
   "source": [
    "# Una semilla diferente\n",
    "semilla = 2\n",
    "\n",
    "entorno = gym.make(\"Taxi-v3\", render_mode='ansi').env\n",
    "entorno.reset(seed = semilla)\n",
    "\n",
    "print_env(entorno)"
   ]
  },
  {
   "cell_type": "markdown",
   "metadata": {},
   "source": [
    "Exploremos el espacio de estados y de acciones:"
   ]
  },
  {
   "cell_type": "code",
   "execution_count": 6,
   "metadata": {},
   "outputs": [
    {
     "name": "stdout",
     "output_type": "stream",
     "text": [
      "Espacio de Acciones Discrete(6)\n",
      "Espacio de Estados Discrete(500)\n"
     ]
    }
   ],
   "source": [
    "print(f\"Espacio de Acciones {entorno.action_space}\")\n",
    "print(f\"Espacio de Estados {entorno.observation_space}\")"
   ]
  },
  {
   "cell_type": "markdown",
   "metadata": {},
   "source": [
    "Hay 6 acciones, que corresponden a:\n",
    " * 0 = ir al Sur\n",
    " * 1 = ir al Norte\n",
    " * 2 = ir al Este\n",
    " * 3 = ir al Oeste\n",
    " * 4 = recoger pasajero\n",
    " * 5 = dejar pasajero\n",
    "\n",
    "Los puntos cardinales siguen la convención Norte hacia arriba. Recoger/dejar al pasajero solo tienen efecto si el taxi está en la misma casilla que el pasajero, y en uno de los puntos de interés."
   ]
  },
  {
   "cell_type": "markdown",
   "metadata": {},
   "source": [
    "Nuestro agente deberá elegir la acción a tomar en cada paso. Gymnassium nos expone funciones para esto. Si queremos movernos al sur, por ejemplo:"
   ]
  },
  {
   "cell_type": "code",
   "execution_count": 7,
   "metadata": {},
   "outputs": [
    {
     "name": "stdout",
     "output_type": "stream",
     "text": [
      "+---------+\n",
      "|\u001b[35mR\u001b[0m: | : :G|\n",
      "| : | : : |\n",
      "| : :\u001b[43m \u001b[0m: : |\n",
      "| | : | : |\n",
      "|Y| : |\u001b[34;1mB\u001b[0m: |\n",
      "+---------+\n",
      "\n",
      "\n",
      "+---------+\n",
      "|\u001b[35mR\u001b[0m: | : :G|\n",
      "| : | : : |\n",
      "| : : : : |\n",
      "| | :\u001b[43m \u001b[0m| : |\n",
      "|Y| : |\u001b[34;1mB\u001b[0m: |\n",
      "+---------+\n",
      "  (South)\n",
      "\n"
     ]
    }
   ],
   "source": [
    "semilla = 1\n",
    "entorno = gym.make(\"Taxi-v3\", render_mode='ansi').env\n",
    "entorno.reset(seed = semilla)\n",
    "print_env(entorno)\n",
    "\n",
    "accion = 0 # Sur\n",
    "entorno.step(accion)\n",
    "\n",
    "print_env(entorno)"
   ]
  },
  {
   "cell_type": "markdown",
   "metadata": {},
   "source": [
    "Ahora estamos listos para programar un agente. Empezando por uno random. Se puede ejecutar el codigo abajo varias veces para ver como cambia en cada ejecución."
   ]
  },
  {
   "cell_type": "code",
   "execution_count": 8,
   "metadata": {},
   "outputs": [
    {
     "name": "stdout",
     "output_type": "stream",
     "text": [
      "Iteraciones: 304\n",
      "Penalizaciones: 105\n"
     ]
    }
   ],
   "source": [
    "import random \n",
    "\n",
    "def episodio_random(semilla_ambiente = 1):\n",
    "    entorno = gym.make(\"Taxi-v3\", render_mode='ansi').env\n",
    "    entorno.reset(seed = semilla_ambiente)\n",
    "\n",
    "    iteraciones = 0\n",
    "    penalizaciones, recompensa = 0, 0\n",
    "\n",
    "    marcos = [] # para la animación\n",
    "\n",
    "    termino = False\n",
    "    truncado = False\n",
    "\n",
    "    while not termino and not truncado:\n",
    "        #  selecciona una acción aleatoria del conjunto de todas las posibles acciones\n",
    "        accion = entorno.action_space.sample() \n",
    "        estado, recompensa, termino, truncado, info = entorno.step(accion)\n",
    "\n",
    "        # El agente trato de dejar/recoger al pasajero incorrectamente\n",
    "        if recompensa == -10:\n",
    "            penalizaciones += 1\n",
    "\n",
    "        # Put each rendered frame into dict for animation\n",
    "        marcos.append({\n",
    "            'marco': entorno.render(),\n",
    "            'estado': estado,\n",
    "            'accion': accion,\n",
    "            'recompensa': recompensa\n",
    "            }\n",
    "        )\n",
    "\n",
    "        iteraciones += 1\n",
    "\n",
    "\n",
    "    print(f\"Iteraciones: {iteraciones}\")\n",
    "    print(f\"Penalizaciones: {penalizaciones}\")\n",
    "\n",
    "    return marcos\n",
    "\n",
    "marcos = episodio_random()"
   ]
  },
  {
   "cell_type": "markdown",
   "metadata": {},
   "source": [
    "Podemos ver el episodio completo abajo. Notar que seleccionamos la semillia de selector de acciones para que la corrida sea 'buena'."
   ]
  },
  {
   "cell_type": "code",
   "execution_count": 9,
   "metadata": {},
   "outputs": [
    {
     "name": "stdout",
     "output_type": "stream",
     "text": [
      "+---------+\n",
      "|\u001b[35m\u001b[34;1m\u001b[43mR\u001b[0m\u001b[0m\u001b[0m: | : :G|\n",
      "| : | : : |\n",
      "| : : : : |\n",
      "| | : | : |\n",
      "|Y| : |B: |\n",
      "+---------+\n",
      "  (Dropoff)\n",
      "\n",
      "Iteracion: 304\n",
      "Estado: 0\n",
      "Accion: 5\n",
      "Recompensa: 20\n"
     ]
    }
   ],
   "source": [
    "from IPython.display import clear_output\n",
    "from time import sleep\n",
    "import sys\n",
    "\n",
    "def print_frames(marcos, delay=0.01):\n",
    "    for i, marco in enumerate(marcos):\n",
    "        clear_output()\n",
    "        print(marco['marco'])\n",
    "        print(f\"Iteracion: {i + 1}\")\n",
    "        print(f\"Estado: {marco['estado']}\")\n",
    "        print(f\"Accion: {marco['accion']}\")\n",
    "        print(f\"Recompensa: {marco['recompensa']}\")\n",
    "        sys.stdout.flush()\n",
    "        # Aumentar este tiempo para ver mejor la animación\n",
    "        sleep(delay)\n",
    "\n",
    "print_frames(marcos)"
   ]
  },
  {
   "cell_type": "markdown",
   "metadata": {},
   "source": [
    "Ahora queremos programar un agente inteligente, para eso nos vamos a atener a la siguiente interfaz."
   ]
  },
  {
   "cell_type": "code",
   "execution_count": 10,
   "metadata": {},
   "outputs": [],
   "source": [
    "class Agente:\n",
    "    def elegir_accion(self, estado, max_accion) -> int:\n",
    "        \"\"\"Elegir la accion a tomar en el estado actual y el espacio de acciones\"\"\"\n",
    "        pass\n",
    "\n",
    "    def aprender(self, estado_anterior, estado_siguiente, accion, recompensa):\n",
    "        \"\"\"Aprender a partir de la tupla \n",
    "            - estado_anterior: el estado desde que se empezó\n",
    "            - estado_siguiente: el estado al que se llegó\n",
    "            - accion: la acción que llevo al agente desde estado_anterior a estado_siguiente\n",
    "            - recompensa: la recompensa recibida en la transicion\n",
    "        \"\"\"\n",
    "        pass"
   ]
  },
  {
   "cell_type": "markdown",
   "metadata": {},
   "source": [
    "Para nuestro agente aleatorio, esto sería:"
   ]
  },
  {
   "cell_type": "code",
   "execution_count": 11,
   "metadata": {},
   "outputs": [],
   "source": [
    "import random\n",
    "\n",
    "class AgenteAleatorio(Agente):\n",
    "    def elegir_accion(self, estado, max_accion) -> int:\n",
    "        # Elige una acción al azar\n",
    "        return random.randrange(max_accion)\n",
    "\n",
    "    def aprender(self, estado_anterior, estado_siguiente, accion, recompensa):\n",
    "        # No aprende\n",
    "        pass"
   ]
  },
  {
   "cell_type": "markdown",
   "metadata": {},
   "source": [
    "Poniendolo a jugar:"
   ]
  },
  {
   "cell_type": "code",
   "execution_count": 12,
   "metadata": {},
   "outputs": [
    {
     "name": "stdout",
     "output_type": "stream",
     "text": [
      "Iteraciones: 789\n",
      "Penalizaciones: 268\n"
     ]
    }
   ],
   "source": [
    "import pdb\n",
    "semilla = 1\n",
    "entorno = gym.make(\"Taxi-v3\", render_mode='ansi').env\n",
    "\n",
    "agente = AgenteAleatorio()\n",
    "\n",
    "\n",
    "iteraciones = 0\n",
    "penalizaciones, recompensa = 0, 0\n",
    "\n",
    "marcos = [] # for animation\n",
    "\n",
    "termino = False\n",
    "truncado = False\n",
    "estado_anterior, info = entorno.reset(seed = semilla)\n",
    "\n",
    "while not termino and not truncado:\n",
    "    # Le pedimos al agente que elija entre las posibles acciones (0..entorno.action_space.n)\n",
    "    accion = agente.elegir_accion(estado_anterior, entorno.action_space.n)\n",
    "\n",
    "    # Realizamos la accion\n",
    "    estado_siguiente, recompensa, termino, truncado, info = entorno.step(accion)\n",
    "\n",
    "    # Le informamos al agente para que aprenda\n",
    "    agente.aprender(estado_anterior, estado_siguiente, accion, recompensa)\n",
    "\n",
    "    # El agente trato de dejar/recoger al pasajero incorrectamente\n",
    "    if recompensa == -10:\n",
    "        penalizaciones += 1\n",
    "\n",
    "    # Put each rendered frame into dict for animation\n",
    "    marcos.append({\n",
    "        'marco': entorno.render(),\n",
    "        'estado': estado_siguiente,\n",
    "        'accion': accion,\n",
    "        'recompensa': recompensa\n",
    "        }\n",
    "    )\n",
    "\n",
    "    estado_anterior = estado_siguiente\n",
    "    iteraciones += 1\n",
    "\n",
    "print(f\"Iteraciones: {iteraciones}\")\n",
    "print(f\"Penalizaciones: {penalizaciones}\")"
   ]
  },
  {
   "cell_type": "markdown",
   "metadata": {},
   "source": [
    "Podemos encapsular lo anterior en una función "
   ]
  },
  {
   "cell_type": "code",
   "execution_count": 13,
   "metadata": {},
   "outputs": [],
   "source": [
    "def ejecutar_episodio(agente, semilla):\n",
    "    entorno = gym.make(\"Taxi-v3\", render_mode='ansi').env\n",
    "\n",
    "    iteraciones = 0\n",
    "    penalizaciones, recompensa = 0, 0\n",
    "\n",
    "    marcos = [] # for animation\n",
    "\n",
    "    termino = False\n",
    "    truncado = False\n",
    "    estado_anterior, info = entorno.reset(seed = semilla)\n",
    "    while not termino and not truncado:\n",
    "        # Le pedimos al agente que elija entre las posibles acciones (0..entorno.action_space.n)\n",
    "        accion = agente.elegir_accion(estado_anterior, entorno.action_space.n)\n",
    "        # Realizamos la accion\n",
    "        estado_siguiente, recompensa, termino, truncado, info = entorno.step(accion)\n",
    "        # Le informamos al agente para que aprenda\n",
    "        agente.aprender(estado_anterior, estado_siguiente, accion, recompensa)\n",
    "\n",
    "        # El agente trato de dejar/recoger al pasajero incorrectamente\n",
    "        if recompensa == -10:\n",
    "            penalizaciones += 1\n",
    "\n",
    "        # Put each rendered frame into dict for animation\n",
    "        marcos.append({\n",
    "            'marco': entorno.render(),\n",
    "            'estado': estado_siguiente,\n",
    "            'accion': accion,\n",
    "            'recompensa': recompensa\n",
    "            }\n",
    "        )\n",
    "\n",
    "        estado_anterior = estado_siguiente\n",
    "        iteraciones += 1\n",
    "        \n",
    "    return iteraciones, penalizaciones, marcos\n"
   ]
  },
  {
   "cell_type": "markdown",
   "metadata": {},
   "source": [
    "y correrlo varias veces para ver el rendimiento promedio"
   ]
  },
  {
   "cell_type": "code",
   "execution_count": 14,
   "metadata": {},
   "outputs": [],
   "source": [
    "agente = AgenteAleatorio()\n",
    "semilla = 1\n",
    "num_iteraciones_episodios = []\n",
    "\n",
    "for i in range(10):\n",
    "    num_iteraciones, _, _ = ejecutar_episodio(agente, semilla)\n",
    "    num_iteraciones_episodios += [num_iteraciones]"
   ]
  },
  {
   "cell_type": "markdown",
   "metadata": {},
   "source": [
    "Y obtener métricas al respecto"
   ]
  },
  {
   "cell_type": "code",
   "execution_count": 15,
   "metadata": {},
   "outputs": [
    {
     "name": "stdout",
     "output_type": "stream",
     "text": [
      "Se realizaron 2666.5 iteraciones, en promedio\n"
     ]
    }
   ],
   "source": [
    "import numpy\n",
    "import random\n",
    "\n",
    "print(f\"Se realizaron {numpy.mean(num_iteraciones_episodios)} iteraciones, en promedio\")"
   ]
  },
  {
   "cell_type": "markdown",
   "metadata": {},
   "source": [
    "La tarea a realizar consiste en programar un agente de aprendizaje por refuerzos:\n",
    "\n",
    "\n",
    "#### **Clase `AgenteRL`**\n",
    "\n",
    "La clase `AgenteRL` es una implementación de un agente de aprendizaje por refuerzo. Esta implementación esta fuertemente inspirada en los conceptos presentados en el libro de Mitchell, *Machine Learning* (1997) y las clases impartidas por el equipo docente. \n",
    "\n",
    "El agente interactúa con un entorno provisto por la biblioteca `Gymnassium`. El entorno es un problema de aprendizaje por refuerzo clásico llamado `*Taxi-v3*`. Donde debemos mover un taxi en un mapa para recoger y dejar pasajeros. El objetivo es que el taxi aprenda a recoger y dejar pasajeros en el menor tiempo posible, es decir, con la menor cantidad de pasos y con la menor cantidad de penalizaciones.\n",
    "\n",
    "##### **Variables de instancia**:\n",
    "- `self.gamma`: Un factor de descuento, generalmente denotado como gamma (`γ`), que determina cuánto valor le da el agente a las recompensas futuras en comparación con las inmediatas. Toma como valor constante e inicial 0.9. A diferencia de `self.k` y `self.delta_t`, no cambia con el tiempo, aunque somos conscientes que agentes mas vanguardistas aplican tecnicas de perfeccionamiento de este valor a lo largo del tiempo.\n",
    "\n",
    "\n",
    "- `self.delta_t`: Es una discretización del tiempo. Se inicializa en 0 y se incrementa en 1 cada vez que el agente toma una acción, es decir, tomar una acción es un evento que ocurre en un tiempo `delta_t` y luego el tiempo avanza a `delta_t + 1`.\n",
    "\n",
    "- `self.k`: Es el atributo pivotal de la funcion de distribucion `X_s_a` que se utiliza para elegir una accion. `self.k` es la funcion creciente `f`, que toma a `self.delta_t`\n",
    "como argumento, con `delta_t = 0` vale `1` y aumenta en orden logaritmico. Esto ultimo es una decision de diseño beneficiar a la exploracion en etapas iniciales. A medida que `self.k` crece en el tiempo, la exploracion se vuelve menos probable y la explotacion mas probable, por eso, al tomar un crecimiento logartimico, ponderamos mas la exploracion que la explotacion.\n",
    "\n",
    "- `self.Q`: Una tabla Q inicializada como una matriz de ceros. Las dimensiones de la matriz dependen del número de estados (`entorno.observation_space.n`) y el número de acciones (`entorno.action_space.n`) en el entorno en el que se encuentra el agente.\n",
    "  \n",
    "\n",
    "##### **Métodos**:\n",
    "\n",
    "- `__init__(self, entorno) -> None`: El constructor de la clase que inicializa las variables de instancia. \n",
    "\n",
    "- `elegir_accion(self, estado, max_accion) -> int`: Calcula los nuevos valores del `self.k` y `self.delta_t` y define la funcion de distribucion `X_s_a` para elegir una accion. Luego, elige una accion de acuerdo a la funcion de distribucion `X_s_a` y la devuelve.\n",
    "\n",
    "- `aprender(self, estado_anterior, estado_siguiente, accion, recompensa)`: Este método actualiza la tabla Q utilizando la ecuación de actualización de Q-learning (Bellman). Aquí `Q_max` es el valor máximo de Q para el `estado_siguiente`. La tabla Q para el `estado_anterior` y la `accion` tomada se actualiza considerando la `recompensa` recibida y el valor descontado de `Q_max`.\n"
   ]
  },
  {
   "cell_type": "code",
   "execution_count": 16,
   "metadata": {},
   "outputs": [],
   "source": [
    "import numpy as np\n",
    "\n",
    "# Mitchell 97. Chapter 13\n",
    "class AgenteRL(Agente):\n",
    "    def __init__(self, entorno) -> None:\n",
    "        super().__init__()\n",
    "        \n",
    "        self.gamma = 0.9\n",
    "        self.delta_t = 0\n",
    "        self.k = 0\n",
    "        self.Q = np.zeros((entorno.observation_space.n, entorno.action_space.n))\n",
    "    \n",
    "    def elegir_accion(self, estado, max_accion) -> int:\n",
    "        # Aumento delta_t y k (tiempo y factor de \"confianza\")\n",
    "        self.delta_t += 1\n",
    "        self.k = 1 + np.log10(self.delta_t)\n",
    "        \n",
    "        # Exploracion vs Explotacion, Mitchell 97. p.379\n",
    "        aux = np.power(np.ones(max_accion) * self.k , self.Q[estado])\n",
    "        X_s_a = aux / np.sum(aux)\n",
    "        \n",
    "        # Elegimos una accion con distribucion X_s_a\n",
    "        return np.random.choice(max_accion, 1, p= X_s_a)[0]\n",
    "    \n",
    "    def aprender(self, estado_anterior, estado_siguiente, accion, recompensa):\n",
    "        # Actualizamos la tabla Q con la ecuacion de Bellman \n",
    "        Q_max = np.max(self.Q[estado_siguiente])\n",
    "        self.Q[estado_anterior, accion] = recompensa + self.gamma * Q_max"
   ]
  },
  {
   "cell_type": "markdown",
   "metadata": {},
   "source": [
    "Y ejecutar con el muchos episodios con la misma semilla:"
   ]
  },
  {
   "cell_type": "code",
   "execution_count": 17,
   "metadata": {},
   "outputs": [
    {
     "name": "stdout",
     "output_type": "stream",
     "text": [
      "Se realizaron 14.488 iteraciones, en promedio\n",
      "Se recibieron 0.142 penalizaciones, en promedio\n"
     ]
    },
    {
     "data": {
      "image/png": "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",
      "text/plain": [
       "<Figure size 1000x1000 with 2 Axes>"
      ]
     },
     "metadata": {},
     "output_type": "display_data"
    }
   ],
   "source": [
    "# Advertencia: este bloque es un loop infinito si el agente se deja sin implementar\n",
    "\n",
    "agente = AgenteRL(entorno)\n",
    "semilla = 1\n",
    "num_iteraciones_episodios = []\n",
    "num_penalizaciones_episodios = []\n",
    "marcos_episodios = []\n",
    "\n",
    "for i in range(1000):\n",
    "    num_iteraciones, penalizaciones, marcos = ejecutar_episodio(agente, semilla)\n",
    "    num_iteraciones_episodios += [num_iteraciones]\n",
    "    num_penalizaciones_episodios += [penalizaciones]\n",
    "    marcos_episodios += [marcos]\n",
    "\n",
    "episodios = list(range(1, len(num_iteraciones_episodios) + 1))\n",
    "    \n",
    "calcular_promedios(num_iteraciones_episodios, num_penalizaciones_episodios)\n",
    "\n",
    "plt.figure(figsize=(8, 12))\n",
    "\n",
    "dibujar_grafico(\n",
    "    episodios, \n",
    "    num_iteraciones_episodios, \n",
    "    1, \n",
    "    'Iteraciones', \n",
    "    'Iteraciones por episodio (escala logaritmica x,y)', \n",
    "    escala_log_x=True, \n",
    "    escala_log_y=True\n",
    ")\n",
    "\n",
    "dibujar_grafico(episodios,\n",
    " num_penalizaciones_episodios,\n",
    " 2,\n",
    " 'Penalizaciones',\n",
    " 'Penalizaciones por episodio (escala logaritmica x)',\n",
    " escala_log_x=True,\n",
    " color='red',\n",
    ")\n",
    "\n",
    "plt.subplots_adjust(hspace=0.5)\n",
    "plt.show()"
   ]
  },
  {
   "cell_type": "code",
   "execution_count": 20,
   "metadata": {},
   "outputs": [
    {
     "name": "stdout",
     "output_type": "stream",
     "text": [
      "+---------+\n",
      "|\u001b[35m\u001b[34;1m\u001b[43mR\u001b[0m\u001b[0m\u001b[0m: | : :G|\n",
      "| : | : : |\n",
      "| : : : : |\n",
      "| | : | : |\n",
      "|Y| : |B: |\n",
      "+---------+\n",
      "  (Dropoff)\n",
      "\n",
      "Iteracion: 51\n",
      "Estado: 0\n",
      "Accion: 5\n",
      "Recompensa: 20\n"
     ]
    }
   ],
   "source": [
    "TOTAL_TIME = 5\n",
    "marcos_episodicos_de_interes = [10]\n",
    "\n",
    "for i in marcos_episodicos_de_interes:\n",
    "    print_frames(marcos_episodios[i], delay= TOTAL_TIME / len(marcos_episodios[i]))"
   ]
  },
  {
   "cell_type": "markdown",
   "metadata": {},
   "source": [
    "Analizar los resultados de la ejecución anterior."
   ]
  },
  {
   "cell_type": "markdown",
   "metadata": {},
   "source": [
    "En nuestro algoritmo, hemos implementado una **estrategia de exploración que evoluciona a lo largo del tiempo**, lo que ha demostrado ser efectivo en el proceso de aprendizaje por refuerzo. Inicialmente, favorecemos la exploración, al ponderar la selección de acciones en función del conocimiento actual del agente y variando el parámetro `k` con el número de iteraciones. Esto permite al agente realizar exploración intensiva al principio y luego cambiar gradualmente hacia la explotación de conocimientos adquiridos.\n",
    "\n",
    "En nuestros resultados se puede observar que la **cantidad de penalizaciones disminuye** a medida que aumenta el número de episodios. Este comportamiento era esperado, ya que el agente va acumulando conocimiento sobre el entorno y aprende a evitar las acciones que conllevan penalizaciones. Además, el agente se vuelve más eficiente en su toma de decisiones, lo que se refleja en una disminución en la cantidad de iteraciones necesarias para alcanzar su objetivo.\n",
    "\n",
    "En **comparación con el agente aleatorio**, el agente de aprendizaje por refuerzo logra reducir considerablemente la cantidad de iteraciones requeridas para alcanzar sus objetivos. Esto subraya la eficacia del aprendizaje por refuerzo en la mejora del desempeño del agente y su capacidad para tomar decisiones más informadas a lo largo del tiempo."
   ]
  },
  {
   "cell_type": "markdown",
   "metadata": {},
   "source": [
    "Se mantiene el rendimiento si cambiamos la semilla? Por qué?"
   ]
  },
  {
   "cell_type": "code",
   "execution_count": 37,
   "metadata": {},
   "outputs": [
    {
     "name": "stdout",
     "output_type": "stream",
     "text": [
      "Se realizaron 31.776 iteraciones, en promedio\n",
      "Se recibieron 0.769 penalizaciones, en promedio\n"
     ]
    },
    {
     "data": {
      "image/png": "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",
      "text/plain": [
       "<Figure size 1000x1000 with 2 Axes>"
      ]
     },
     "metadata": {},
     "output_type": "display_data"
    }
   ],
   "source": [
    "# Agregar código aqui\n",
    "agente = AgenteRL(entorno)\n",
    "num_iteraciones_episodios = []\n",
    "num_penalizaciones_episodios = []\n",
    "marcos_episodios = []\n",
    "\n",
    "for i in range(1000):\n",
    "    num_iteraciones, penalizaciones, marcos = ejecutar_episodio(agente, i)\n",
    "    num_iteraciones_episodios += [num_iteraciones]\n",
    "    num_penalizaciones_episodios += [penalizaciones]\n",
    "    marcos_episodios += [marcos]\n",
    "\n",
    "calcular_promedios(num_iteraciones_episodios, num_penalizaciones_episodios)\n",
    "\n",
    "plt.figure(figsize=(10, 10))\n",
    "\n",
    "dibujar_grafico(episodios, num_iteraciones_episodios, 1, 'Iteraciones', 'Iteraciones por episodio', escala_log_x=True, escala_log_y=True)\n",
    "dibujar_grafico(episodios, num_penalizaciones_episodios, 2, 'Penalizaciones', 'Penalizaciones por episodio', color='red', escala_log_x=True)\n",
    "\n",
    "plt.subplots_adjust(hspace=0.5)\n",
    "plt.show()"
   ]
  },
  {
   "cell_type": "markdown",
   "metadata": {},
   "source": [
    "Podemos mejorar el agente para que se desempeñe bien usando cualquier semilla?"
   ]
  },
  {
   "cell_type": "code",
   "execution_count": null,
   "metadata": {},
   "outputs": [],
   "source": [
    "# Agregar código aqui"
   ]
  }
 ],
 "metadata": {
  "kernelspec": {
   "display_name": "base",
   "language": "python",
   "name": "python3"
  },
  "language_info": {
   "codemirror_mode": {
    "name": "ipython",
    "version": 3
   },
   "file_extension": ".py",
   "mimetype": "text/x-python",
   "name": "python",
   "nbconvert_exporter": "python",
   "pygments_lexer": "ipython3",
<<<<<<< HEAD
   "version": "3.11.5"
=======
   "version": "3.11.4"
>>>>>>> 724bc44 (q-learning: redaccion y redifinicon de variables)
  },
  "orig_nbformat": 4
 },
 "nbformat": 4,
 "nbformat_minor": 2
}
