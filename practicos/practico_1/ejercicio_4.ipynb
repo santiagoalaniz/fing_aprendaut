{
 "cells": [
  {
   "cell_type": "markdown",
   "metadata": {},
   "source": [
    "# Practico 1 - Ejercicio 4"
   ]
  },
  {
   "cell_type": "markdown",
   "metadata": {},
   "source": [
    "## a) \n",
    "\n",
    "Implementacion de FIND-S"
   ]
  },
  {
   "cell_type": "markdown",
   "metadata": {},
   "source": [
    "### Descripcion del algoritmo FIND-S\n",
    "\n",
    "El algoritmo Find-S busca la hipótesis más específica que se ajusta a todos los ejemplos positivos de un conjunto de datos. La función `find_s` en el contexto proporcionado implementa este algoritmo en Python y opera de la siguiente manera:\n",
    "\n",
    "1. **Inicialización de `hip`:** Comienza con '∅' para cada atributo en la lista `hip`, representando la hipótesis más específica. Esta hipótesis inicial es tan restrictiva que, en la práctica, no clasificaría ningún ejemplo como positivo porque excluye todos los posibles valores de los atributos.\n",
    "\n",
    "2. **Procesamiento de ejemplos positivos:** A medida que itera sobre las filas del DataFrame `data`, la función busca filas donde la columna 'c_x' es igual a 1, indicando un ejemplo positivo.\n",
    "\n",
    "3. **Actualización de `hip`:** Para un ejemplo positivo, cada atributo en `hip` que es '∅' se reemplaza con el valor correspondiente del ejemplo. Si un atributo ya tiene un valor asignado y este no coincide con el valor del ejemplo positivo actual, se asigna '?' a ese atributo en `hip`. El símbolo '?' hace que la hipótesis sea más general, significando que ese atributo puede tomar cualquier valor, ya que ha habido evidencia contradictoria entre los ejemplos positivos.\n",
    "\n",
    "4. **Decodificación (si es necesaria):** Después de procesar todos los ejemplos, si hay valores en `hip` que no son '?' ni '∅', se utilizan los `label_encoders` para revertir cualquier codificación previa, devolviendo `hip_decoded` con los valores originales para interpretación humana.\n",
    "\n",
    "5. **Resultado:** La función devuelve dos versiones de la hipótesis: `hip` en su forma codificada y `hip_decoded` en forma legible, donde la hipótesis representa el conjunto de restricciones más específicas que es consistente con todos los ejemplos positivos observados hasta ese momento."
   ]
  },
  {
   "cell_type": "code",
   "execution_count": null,
   "metadata": {},
   "outputs": [],
   "source": [
    "def find_s(data, label_encoders):\n",
    "  hip = ['∅'] * (len(data.columns) - 1)\n",
    "\n",
    "  for index, row in data.iterrows():\n",
    "    if row['c_x'] == 1:\n",
    "      for i in range(len(hip)):\n",
    "        if hip[i] == '∅':\n",
    "          hip[i] = row.iloc[i]\n",
    "        elif hip[i] != row.iloc[i]:\n",
    "          hip[i] = '?'\n",
    "\n",
    "  hip_decoded = list(hip)\n",
    "\n",
    "  for index, value in enumerate(hip_decoded):\n",
    "    if ['?', '∅'].count(value) == 0:\n",
    "      label_encoder = label_encoders[data.columns[index]]\n",
    "      hip_decoded[index] = label_encoder.inverse_transform([value])[0]\n",
    "\n",
    "  return hip, hip_decoded\n"
   ]
  },
  {
   "cell_type": "markdown",
   "metadata": {},
   "source": [
    "## Parte b)\n",
    "\n",
    "Verificacion de la implementacion con el dataset del teorico.\n",
    " "
   ]
  },
  {
   "cell_type": "markdown",
   "metadata": {},
   "source": [
    "### Representacion de los datos\n",
    "\n",
    "En el teorico vimos una grilla con valores que representan las diferentes caracteristicas que un estudiante debe afrontar para poder aprobar un examen.\n",
    "\n",
    "La representacion de los datos es la siguiente:\n",
    "\n",
    "- `Dedicacion`, `Dificultad`, `Horarios`, `Humedad`, `Humor_Docente`, `C_x`"
   ]
  },
  {
   "cell_type": "code",
   "execution_count": null,
   "metadata": {},
   "outputs": [],
   "source": [
    "# Cargamos el ejemplo de la clase con numpy\n",
    "import pandas as pd\n",
    "from sklearn.preprocessing import LabelEncoder\n",
    "\n",
    "data = pd.read_csv('src/ejemplo_teorico.csv', sep=',')\n",
    "label_encoders = {}\n",
    "\n",
    "for column in data.columns:\n",
    "  label_encoders[column] = LabelEncoder()\n",
    "  data[column] = label_encoders[column].fit_transform(data[column])\n",
    "\n",
    "data.head()\n"
   ]
  },
  {
   "cell_type": "code",
   "execution_count": null,
   "metadata": {},
   "outputs": [],
   "source": [
    "hip_s, hip_s_decoded = find_s(data, label_encoders)\n",
    "print('Hipótesis S: ', hip_s_decoded)\n"
   ]
  },
  {
   "cell_type": "markdown",
   "metadata": {},
   "source": [
    "## c)\n",
    "\n",
    "Implmente un programa que genere instancias aleatorias y luego las clasifique de acuerdo al concepto:  <?, Media, ?, ?, ?>.\n",
    "\n",
    "Cuantos ejemplos unicos (sin repetidos) tiene que generar en promedio para aprender el concepto? Cuantos ejemplos unicos positivos?"
   ]
  },
  {
   "cell_type": "code",
   "execution_count": 237,
   "metadata": {},
   "outputs": [
    {
     "name": "stdout",
     "output_type": "stream",
     "text": [
      "Hipótesis S:  ['∅', '∅', '∅', '∅', '∅']\n",
      "Hipótesis S:  ['Alta', 'Media', 'Matutino', 'Alta', 'Bueno']\n",
      "Hipótesis S:  ['Alta', 'Media', 'Matutino', 'Alta', 'Bueno']\n",
      "Hipótesis S:  ['?', 'Media', 'Matutino', 'Alta', 'Bueno']\n",
      "Hipótesis S:  ['?', 'Media', 'Matutino', 'Alta', 'Bueno']\n",
      "Hipótesis S:  ['?', 'Media', 'Matutino', '?', 'Bueno']\n",
      "Hipótesis S:  ['?', 'Media', '?', '?', '?']\n",
      "Nuevas filas distintas:  7\n",
      "Nuevas filas positivas distintas:  4\n"
     ]
    }
   ],
   "source": [
    "import random\n",
    "\n",
    "hip_to_be_learned = ['?', 'Media', '?', '?', '?']\n",
    "new_rows_set = set()\n",
    "new_data = pd.DataFrame(columns=data.columns)\n",
    "hip_s = find_s(new_data, label_encoders)[1]\n",
    "\n",
    "while hip_to_be_learned != hip_s:\n",
    "\n",
    "  new_row = [\n",
    "    random.randint(0, 2),\n",
    "    random.randint(0, 1),\n",
    "    random.randint(0, 1),\n",
    "    random.randint(0, 1),\n",
    "    random.randint(0, 1),\n",
    "    0\n",
    "  ]\n",
    "\n",
    "  if label_encoders['Dificultad'].inverse_transform([new_row[1]])[0] == 'Media':\n",
    "    new_row[5] = 1\n",
    "\n",
    "  new_data.loc[len(new_data)] = new_row\n",
    "  new_rows_set.add(tuple(new_row))\n",
    "  hip_s = find_s(new_data, label_encoders)[1]\n",
    "\n",
    "  print('Hipótesis S: ', hip_s)\n",
    "\n",
    "print('Nuevas filas distintas: ', len(new_rows_set))\n",
    "\n",
    "positive_saples = 0\n",
    "\n",
    "for row in new_rows_set:\n",
    "  if row[5] == 1:\n",
    "    positive_saples += 1\n",
    "\n",
    "print('Nuevas filas positivas distintas: ', positive_saples)\n"
   ]
  }
 ],
 "metadata": {
  "kernelspec": {
   "display_name": "Python 3",
   "language": "python",
   "name": "python3"
  },
  "language_info": {
   "codemirror_mode": {
    "name": "ipython",
    "version": 3
   },
   "file_extension": ".py",
   "mimetype": "text/x-python",
   "name": "python",
   "nbconvert_exporter": "python",
   "pygments_lexer": "ipython3",
   "version": "3.11.6"
  }
 },
 "nbformat": 4,
 "nbformat_minor": 2
}
